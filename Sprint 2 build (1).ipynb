{
 "cells": [
  {
   "cell_type": "code",
   "execution_count": 43,
   "metadata": {
    "id": "8JgjpPWt8Oe8"
   },
   "outputs": [],
   "source": [
    "import pandas as pd"
   ]
  },
  {
   "cell_type": "markdown",
   "metadata": {
    "id": "ABb0AuGaAocI"
   },
   "source": [
    "# Predicting hotel cancelations \n",
    "\n",
    "- The target I will predict will be between is_canceled (0) checked out (1) canceled\n",
    "\n",
    "- Classifications: there will be either 2 or 3 depending on the target chosen\n",
    "\n",
    "- time-based split\n",
    "\n",
    "- Remove arrival dates and nights stay to prevent leakage"
   ]
  },
  {
   "cell_type": "markdown",
   "metadata": {},
   "source": [
    "https://www.kaggle.com/jessemostipak/hotel-booking-demand"
   ]
  },
  {
   "cell_type": "code",
   "execution_count": null,
   "metadata": {},
   "outputs": [],
   "source": []
  },
  {
   "cell_type": "code",
   "execution_count": 256,
   "metadata": {
    "id": "ydIG7xCW8WwA"
   },
   "outputs": [],
   "source": [
    "# date to index\n",
    "df = pd.read_csv('https://raw.githubusercontent.com/rassamyjs/Ds20_build2/main/hotel_bookings.csv',\n",
    "                 parse_dates=['reservation_status_date'],\n",
    "                 index_col='reservation_status_date')"
   ]
  },
  {
   "cell_type": "code",
   "execution_count": 45,
   "metadata": {},
   "outputs": [
    {
     "name": "stdout",
     "output_type": "stream",
     "text": [
      "Requirement already satisfied: category_encoders==2.* in /home/rassamyjs/.local/share/virtualenvs/unit2-WkVSDiZI/lib/python3.8/site-packages (2.2.2)\n",
      "Requirement already satisfied: statsmodels>=0.9.0 in /home/rassamyjs/.local/share/virtualenvs/unit2-WkVSDiZI/lib/python3.8/site-packages (from category_encoders==2.*) (0.12.0)\n",
      "Requirement already satisfied: scikit-learn>=0.20.0 in /home/rassamyjs/.local/share/virtualenvs/unit2-WkVSDiZI/lib/python3.8/site-packages (from category_encoders==2.*) (0.23.2)\n",
      "Requirement already satisfied: patsy>=0.5.1 in /home/rassamyjs/.local/share/virtualenvs/unit2-WkVSDiZI/lib/python3.8/site-packages (from category_encoders==2.*) (0.5.1)\n",
      "Requirement already satisfied: pandas>=0.21.1 in /home/rassamyjs/.local/share/virtualenvs/unit2-WkVSDiZI/lib/python3.8/site-packages (from category_encoders==2.*) (1.1.3)\n",
      "Requirement already satisfied: scipy>=1.0.0 in /home/rassamyjs/.local/share/virtualenvs/unit2-WkVSDiZI/lib/python3.8/site-packages (from category_encoders==2.*) (1.5.2)\n",
      "Requirement already satisfied: numpy>=1.14.0 in /home/rassamyjs/.local/share/virtualenvs/unit2-WkVSDiZI/lib/python3.8/site-packages (from category_encoders==2.*) (1.19.2)\n",
      "Requirement already satisfied: joblib>=0.11 in /home/rassamyjs/.local/share/virtualenvs/unit2-WkVSDiZI/lib/python3.8/site-packages (from scikit-learn>=0.20.0->category_encoders==2.*) (0.17.0)\n",
      "Requirement already satisfied: threadpoolctl>=2.0.0 in /home/rassamyjs/.local/share/virtualenvs/unit2-WkVSDiZI/lib/python3.8/site-packages (from scikit-learn>=0.20.0->category_encoders==2.*) (2.1.0)\n",
      "Requirement already satisfied: six in /home/rassamyjs/.local/share/virtualenvs/unit2-WkVSDiZI/lib/python3.8/site-packages (from patsy>=0.5.1->category_encoders==2.*) (1.15.0)\n",
      "Requirement already satisfied: python-dateutil>=2.7.3 in /home/rassamyjs/.local/share/virtualenvs/unit2-WkVSDiZI/lib/python3.8/site-packages (from pandas>=0.21.1->category_encoders==2.*) (2.8.1)\n",
      "Requirement already satisfied: pytz>=2017.2 in /home/rassamyjs/.local/share/virtualenvs/unit2-WkVSDiZI/lib/python3.8/site-packages (from pandas>=0.21.1->category_encoders==2.*) (2020.1)\n",
      "Requirement already satisfied: pdpbox in /home/rassamyjs/.local/share/virtualenvs/unit2-WkVSDiZI/lib/python3.8/site-packages (0.2.0)\n",
      "Requirement already satisfied: numpy in /home/rassamyjs/.local/share/virtualenvs/unit2-WkVSDiZI/lib/python3.8/site-packages (from pdpbox) (1.19.2)\n",
      "Requirement already satisfied: pandas in /home/rassamyjs/.local/share/virtualenvs/unit2-WkVSDiZI/lib/python3.8/site-packages (from pdpbox) (1.1.3)\n",
      "Requirement already satisfied: joblib in /home/rassamyjs/.local/share/virtualenvs/unit2-WkVSDiZI/lib/python3.8/site-packages (from pdpbox) (0.17.0)\n",
      "Requirement already satisfied: psutil in /home/rassamyjs/.local/share/virtualenvs/unit2-WkVSDiZI/lib/python3.8/site-packages (from pdpbox) (5.7.2)\n",
      "Requirement already satisfied: scipy in /home/rassamyjs/.local/share/virtualenvs/unit2-WkVSDiZI/lib/python3.8/site-packages (from pdpbox) (1.5.2)\n",
      "Requirement already satisfied: scikit-learn in /home/rassamyjs/.local/share/virtualenvs/unit2-WkVSDiZI/lib/python3.8/site-packages (from pdpbox) (0.23.2)\n",
      "Requirement already satisfied: matplotlib>=2.1.2 in /home/rassamyjs/.local/share/virtualenvs/unit2-WkVSDiZI/lib/python3.8/site-packages (from pdpbox) (3.3.2)\n",
      "Requirement already satisfied: python-dateutil>=2.7.3 in /home/rassamyjs/.local/share/virtualenvs/unit2-WkVSDiZI/lib/python3.8/site-packages (from pandas->pdpbox) (2.8.1)\n",
      "Requirement already satisfied: pytz>=2017.2 in /home/rassamyjs/.local/share/virtualenvs/unit2-WkVSDiZI/lib/python3.8/site-packages (from pandas->pdpbox) (2020.1)\n",
      "Requirement already satisfied: threadpoolctl>=2.0.0 in /home/rassamyjs/.local/share/virtualenvs/unit2-WkVSDiZI/lib/python3.8/site-packages (from scikit-learn->pdpbox) (2.1.0)\n",
      "Requirement already satisfied: pyparsing!=2.0.4,!=2.1.2,!=2.1.6,>=2.0.3 in /home/rassamyjs/.local/share/virtualenvs/unit2-WkVSDiZI/lib/python3.8/site-packages (from matplotlib>=2.1.2->pdpbox) (2.4.7)\n",
      "Requirement already satisfied: certifi>=2020.06.20 in /home/rassamyjs/.local/share/virtualenvs/unit2-WkVSDiZI/lib/python3.8/site-packages (from matplotlib>=2.1.2->pdpbox) (2020.6.20)\n",
      "Requirement already satisfied: kiwisolver>=1.0.1 in /home/rassamyjs/.local/share/virtualenvs/unit2-WkVSDiZI/lib/python3.8/site-packages (from matplotlib>=2.1.2->pdpbox) (1.2.0)\n",
      "Requirement already satisfied: cycler>=0.10 in /home/rassamyjs/.local/share/virtualenvs/unit2-WkVSDiZI/lib/python3.8/site-packages (from matplotlib>=2.1.2->pdpbox) (0.10.0)\n",
      "Requirement already satisfied: pillow>=6.2.0 in /home/rassamyjs/.local/share/virtualenvs/unit2-WkVSDiZI/lib/python3.8/site-packages (from matplotlib>=2.1.2->pdpbox) (8.0.0)\n",
      "Requirement already satisfied: six>=1.5 in /home/rassamyjs/.local/share/virtualenvs/unit2-WkVSDiZI/lib/python3.8/site-packages (from python-dateutil>=2.7.3->pandas->pdpbox) (1.15.0)\n",
      "Requirement already satisfied: shap in /home/rassamyjs/.local/share/virtualenvs/unit2-WkVSDiZI/lib/python3.8/site-packages (0.36.0)\n",
      "Requirement already satisfied: scikit-learn in /home/rassamyjs/.local/share/virtualenvs/unit2-WkVSDiZI/lib/python3.8/site-packages (from shap) (0.23.2)\n",
      "Requirement already satisfied: numba in /home/rassamyjs/.local/share/virtualenvs/unit2-WkVSDiZI/lib/python3.8/site-packages (from shap) (0.51.2)\n",
      "Requirement already satisfied: pandas in /home/rassamyjs/.local/share/virtualenvs/unit2-WkVSDiZI/lib/python3.8/site-packages (from shap) (1.1.3)\n",
      "Requirement already satisfied: scipy in /home/rassamyjs/.local/share/virtualenvs/unit2-WkVSDiZI/lib/python3.8/site-packages (from shap) (1.5.2)\n",
      "Requirement already satisfied: slicer in /home/rassamyjs/.local/share/virtualenvs/unit2-WkVSDiZI/lib/python3.8/site-packages (from shap) (0.0.4)\n",
      "Requirement already satisfied: tqdm>4.25.0 in /home/rassamyjs/.local/share/virtualenvs/unit2-WkVSDiZI/lib/python3.8/site-packages (from shap) (4.50.2)\n",
      "Requirement already satisfied: numpy in /home/rassamyjs/.local/share/virtualenvs/unit2-WkVSDiZI/lib/python3.8/site-packages (from shap) (1.19.2)\n",
      "Requirement already satisfied: threadpoolctl>=2.0.0 in /home/rassamyjs/.local/share/virtualenvs/unit2-WkVSDiZI/lib/python3.8/site-packages (from scikit-learn->shap) (2.1.0)\n",
      "Requirement already satisfied: joblib>=0.11 in /home/rassamyjs/.local/share/virtualenvs/unit2-WkVSDiZI/lib/python3.8/site-packages (from scikit-learn->shap) (0.17.0)\n",
      "Requirement already satisfied: llvmlite<0.35,>=0.34.0.dev0 in /home/rassamyjs/.local/share/virtualenvs/unit2-WkVSDiZI/lib/python3.8/site-packages (from numba->shap) (0.34.0)\n",
      "Requirement already satisfied: setuptools in /home/rassamyjs/.local/share/virtualenvs/unit2-WkVSDiZI/lib/python3.8/site-packages (from numba->shap) (50.3.1)\n",
      "Requirement already satisfied: python-dateutil>=2.7.3 in /home/rassamyjs/.local/share/virtualenvs/unit2-WkVSDiZI/lib/python3.8/site-packages (from pandas->shap) (2.8.1)\n",
      "Requirement already satisfied: pytz>=2017.2 in /home/rassamyjs/.local/share/virtualenvs/unit2-WkVSDiZI/lib/python3.8/site-packages (from pandas->shap) (2020.1)\n",
      "Requirement already satisfied: six>=1.5 in /home/rassamyjs/.local/share/virtualenvs/unit2-WkVSDiZI/lib/python3.8/site-packages (from python-dateutil>=2.7.3->pandas->shap) (1.15.0)\n",
      "Requirement already satisfied: eli5 in /home/rassamyjs/.local/share/virtualenvs/unit2-WkVSDiZI/lib/python3.8/site-packages (0.10.1)\n",
      "Requirement already satisfied: six in /home/rassamyjs/.local/share/virtualenvs/unit2-WkVSDiZI/lib/python3.8/site-packages (from eli5) (1.15.0)\n",
      "Requirement already satisfied: jinja2 in /home/rassamyjs/.local/share/virtualenvs/unit2-WkVSDiZI/lib/python3.8/site-packages (from eli5) (2.11.2)\n",
      "Requirement already satisfied: attrs>16.0.0 in /home/rassamyjs/.local/share/virtualenvs/unit2-WkVSDiZI/lib/python3.8/site-packages (from eli5) (20.2.0)\n",
      "Requirement already satisfied: scikit-learn>=0.18 in /home/rassamyjs/.local/share/virtualenvs/unit2-WkVSDiZI/lib/python3.8/site-packages (from eli5) (0.23.2)\n",
      "Requirement already satisfied: scipy in /home/rassamyjs/.local/share/virtualenvs/unit2-WkVSDiZI/lib/python3.8/site-packages (from eli5) (1.5.2)\n",
      "Requirement already satisfied: graphviz in /home/rassamyjs/.local/share/virtualenvs/unit2-WkVSDiZI/lib/python3.8/site-packages (from eli5) (0.14.2)\n",
      "Requirement already satisfied: tabulate>=0.7.7 in /home/rassamyjs/.local/share/virtualenvs/unit2-WkVSDiZI/lib/python3.8/site-packages (from eli5) (0.8.7)\n",
      "Requirement already satisfied: numpy>=1.9.0 in /home/rassamyjs/.local/share/virtualenvs/unit2-WkVSDiZI/lib/python3.8/site-packages (from eli5) (1.19.2)\n",
      "Requirement already satisfied: MarkupSafe>=0.23 in /home/rassamyjs/.local/share/virtualenvs/unit2-WkVSDiZI/lib/python3.8/site-packages (from jinja2->eli5) (1.1.1)\n",
      "Requirement already satisfied: joblib>=0.11 in /home/rassamyjs/.local/share/virtualenvs/unit2-WkVSDiZI/lib/python3.8/site-packages (from scikit-learn>=0.18->eli5) (0.17.0)\n",
      "Requirement already satisfied: threadpoolctl>=2.0.0 in /home/rassamyjs/.local/share/virtualenvs/unit2-WkVSDiZI/lib/python3.8/site-packages (from scikit-learn>=0.18->eli5) (2.1.0)\n",
      "Requirement already satisfied: xgboost in /home/rassamyjs/.local/share/virtualenvs/unit2-WkVSDiZI/lib/python3.8/site-packages (1.2.1)\n",
      "Requirement already satisfied: scipy in /home/rassamyjs/.local/share/virtualenvs/unit2-WkVSDiZI/lib/python3.8/site-packages (from xgboost) (1.5.2)\n",
      "Requirement already satisfied: numpy in /home/rassamyjs/.local/share/virtualenvs/unit2-WkVSDiZI/lib/python3.8/site-packages (from xgboost) (1.19.2)\n"
     ]
    }
   ],
   "source": [
    "!pip install category_encoders==2.*\n",
    "!pip install pdpbox\n",
    "!pip install shap\n",
    "!pip install eli5\n",
    "!pip install xgboost"
   ]
  },
  {
   "cell_type": "code",
   "execution_count": 93,
   "metadata": {
    "id": "3nyz3MwieSjH"
   },
   "outputs": [],
   "source": [
    "from category_encoders import OrdinalEncoder\n",
    "from sklearn.impute import SimpleImputer\n",
    "from sklearn.pipeline import make_pipeline\n",
    "from xgboost import XGBClassifier\n",
    "import matplotlib.pyplot as plt\n",
    "from numpy.random import permutation\n",
    "from sklearn.inspection import permutation_importance\n",
    "from sklearn.linear_model import LogisticRegression\n",
    "from sklearn.ensemble import RandomForestClassifier\n",
    "from sklearn.model_selection import train_test_split\n",
    "from sklearn.metrics import accuracy_score\n",
    "from sklearn.metrics import plot_confusion_matrix, classification_report\n",
    "from pdpbox.pdp import pdp_isolate, pdp_plot, pdp_interact, pdp_interact_plot\n",
    "import shap"
   ]
  },
  {
   "cell_type": "code",
   "execution_count": 257,
   "metadata": {
    "id": "6a-4Id3wZnSR"
   },
   "outputs": [],
   "source": [
    "def wrangle(X):\n",
    "    # Make a copy\n",
    "    X = X.copy()\n",
    "\n",
    "    # Drop high cardinality cols\n",
    "    high_card_cols = [col for col in X.select_dtypes('object').columns\n",
    "                      if X[col].nunique() > 100]\n",
    "\n",
    "    X.drop(columns=high_card_cols, inplace=True)\n",
    "\n",
    "    #  Drop data leak columns\n",
    "    cols = ['arrival_date_year', 'arrival_date_month', 'arrival_date_week_number', 'arrival_date_day_of_month', 'reservation_status']\n",
    "    X.drop(columns=cols, inplace=True)\n",
    "\n",
    "    return X"
   ]
  },
  {
   "cell_type": "code",
   "execution_count": 258,
   "metadata": {
    "id": "FMCX3xtQZ8Zy"
   },
   "outputs": [],
   "source": [
    "df = wrangle(df)"
   ]
  },
  {
   "cell_type": "markdown",
   "metadata": {
    "id": "Sc_ZSlAga3IS"
   },
   "source": [
    "Split is_canceled"
   ]
  },
  {
   "cell_type": "code",
   "execution_count": 259,
   "metadata": {
    "id": "tqHaB7v6a5Sy"
   },
   "outputs": [],
   "source": [
    "target = 'is_canceled'\n",
    "features = df.columns.drop('is_canceled')"
   ]
  },
  {
   "cell_type": "code",
   "execution_count": 30,
   "metadata": {
    "colab": {
     "base_uri": "https://localhost:8080/",
     "height": 34
    },
    "id": "w2zXML91aBx9",
    "outputId": "0bc4c46b-19fd-466d-eb70-b3ee2f48f953"
   },
   "outputs": [],
   "source": [
    "# # split to train, val, test sets \n",
    "# train = df[df.index.year < 2016]\n",
    "# validation = df[(df.index.year > 2015) & (df.index.year < 2017)]\n",
    "# test = df[df.index.year == 2017]\n",
    "\n",
    "# train.shape, validation.shape, test.shape"
   ]
  },
  {
   "cell_type": "code",
   "execution_count": 260,
   "metadata": {},
   "outputs": [],
   "source": [
    "# split with/ time and random\n",
    "train1 = df[df.index.year < 2017]\n",
    "val1 = test = df[df.index.year == 2017]\n",
    "\n",
    "target = 'is_canceled'\n",
    "y = df[target]\n",
    "X = df.drop(target, axis=1)"
   ]
  },
  {
   "cell_type": "markdown",
   "metadata": {
    "id": "lbC6sTffdgSv"
   },
   "source": [
    "Split target vector from feature matric"
   ]
  },
  {
   "cell_type": "code",
   "execution_count": 261,
   "metadata": {
    "id": "RU2BlaMac2JD"
   },
   "outputs": [],
   "source": [
    "# X_train = train[features]\n",
    "# y_train = train[target]\n",
    "\n",
    "# X_val = validation[features]\n",
    "# y_val = validation[target]\n",
    "\n",
    "# X_test = test[features]\n",
    "# y_test = test[target]\n",
    "\n",
    "\n",
    "X_train, X_val, y_train, y_val = train_test_split(X, y, test_size=0.2, random_state=42)\n",
    "\n",
    "X_train1 = train1[features]\n",
    "y_train1 = train1[target]\n",
    "\n",
    "X_val1 = val1[features]\n",
    "y_val1 = val1[target]\n",
    "\n"
   ]
  },
  {
   "cell_type": "code",
   "execution_count": 262,
   "metadata": {},
   "outputs": [
    {
     "name": "stdout",
     "output_type": "stream",
     "text": [
      "(95512, 24) (23878, 24) (95512,) (23878,)\n",
      "(82907, 24) (36483, 24) (82907,) (36483,)\n"
     ]
    }
   ],
   "source": [
    "print(X_train.shape, X_val.shape, y_train.shape, y_val.shape)\n",
    "print(X_train1.shape, X_val1.shape, y_train1.shape, y_val1.shape)"
   ]
  },
  {
   "cell_type": "markdown",
   "metadata": {
    "id": "o5ofu1ZfdkUT"
   },
   "source": [
    "baseline"
   ]
  },
  {
   "cell_type": "code",
   "execution_count": 263,
   "metadata": {},
   "outputs": [
    {
     "name": "stdout",
     "output_type": "stream",
     "text": [
      "Baseline Accuracy: 0.6010469562280628\n"
     ]
    },
    {
     "data": {
      "text/plain": [
       "0    0.601047\n",
       "1    0.398953\n",
       "Name: is_canceled, dtype: float64"
      ]
     },
     "execution_count": 263,
     "metadata": {},
     "output_type": "execute_result"
    }
   ],
   "source": [
    "baseline_acc1 = y_train1.value_counts(normalize=True).max()\n",
    "print('Baseline Accuracy:', baseline_acc1)\n",
    "y_train1.value_counts(normalize=True)"
   ]
  },
  {
   "cell_type": "markdown",
   "metadata": {
    "id": "gHK5T3lgeIEU"
   },
   "source": [
    "- Logistic regression\n",
    "\n",
    "- xgboost\n",
    "\n",
    "- random forest\n",
    "\n",
    "Does it beat your baseline?\n",
    "\n",
    "\n"
   ]
  },
  {
   "cell_type": "code",
   "execution_count": 264,
   "metadata": {},
   "outputs": [],
   "source": [
    "# preform logistic regression time\n",
    "model_log = make_pipeline(\n",
    "    OrdinalEncoder(),\n",
    "    SimpleImputer(),\n",
    "    LogisticRegression()\n",
    "\n",
    "\n",
    "\n",
    ")\n",
    "\n",
    "\n",
    "\n",
    "model_log.fit(X_train1, y_train1);\n",
    "\n",
    "# preform logistic regression random\n",
    "model_log1 = make_pipeline(\n",
    "    OrdinalEncoder(),\n",
    "    SimpleImputer(),\n",
    "    LogisticRegression()\n",
    "\n",
    "\n",
    "\n",
    ")\n",
    "\n",
    "\n",
    "\n",
    "model_log1.fit(X_train, y_train);"
   ]
  },
  {
   "cell_type": "code",
   "execution_count": 265,
   "metadata": {},
   "outputs": [
    {
     "name": "stdout",
     "output_type": "stream",
     "text": [
      "Training Accuracy Score Time: 0.7882205362635242\n",
      "Validation Accuracy Score Time: 0.7313817394402873\n",
      "Training Accuracy Score Random: 0.7706361504313594\n",
      "Validation Accuracy Score Random: 0.771714548957199\n"
     ]
    }
   ],
   "source": [
    "# check metric\n",
    "print('Training Accuracy Score Time:', model_log.score(X_train1, y_train1))\n",
    "print('Validation Accuracy Score Time:', model_log.score(X_val1, y_val1))\n",
    "\n",
    "\n",
    "print('Training Accuracy Score Random:', model_log.score(X_train, y_train))\n",
    "print('Validation Accuracy Score Random:', model_log.score(X_val, y_val))"
   ]
  },
  {
   "cell_type": "code",
   "execution_count": 266,
   "metadata": {},
   "outputs": [],
   "source": [
    "# time based split for xgboost\n",
    "\n",
    "model_xgb1 = make_pipeline(\n",
    "    OrdinalEncoder(),\n",
    "    SimpleImputer(),\n",
    "    XGBClassifier(random_state=42, n_jobs=10)\n",
    ")\n",
    "\n",
    "model_xgb1.fit(X_train1, y_train1);\n",
    "\n",
    "# tree time base for randomforest\n",
    "\n",
    "model_rf = make_pipeline(\n",
    "    OrdinalEncoder(), \n",
    "    SimpleImputer(strategy='mean'), \n",
    "    RandomForestClassifier(n_estimators=20, random_state=42, n_jobs=-1)\n",
    ")\n",
    "\n",
    "# Fit on train, score on val\n",
    "model_rf.fit(X_train1, y_train1);"
   ]
  },
  {
   "cell_type": "code",
   "execution_count": 267,
   "metadata": {},
   "outputs": [
    {
     "name": "stdout",
     "output_type": "stream",
     "text": [
      "XGBoost Training Accuracy Time: 0.8832064843740577\n",
      "XGBoost Validation Accuracy Time: 0.7744154811830167\n",
      "RF Training Accuracy Time: 0.987974477426514\n",
      "RF Validation Accuracy Time: 0.7611490283145574\n"
     ]
    }
   ],
   "source": [
    "# \n",
    "print('XGBoost Training Accuracy Time:', model_xgb1.score(X_train1, y_train1))\n",
    "print('XGBoost Validation Accuracy Time:', model_xgb1.score(X_val1, y_val1))\n",
    "\n",
    "\n",
    "#Accuracy\n",
    "print('RF Training Accuracy Time:', model_rf.score(X_train1, y_train1))\n",
    "print('RF Validation Accuracy Time:', model_rf.score(X_val1, y_val1))"
   ]
  },
  {
   "cell_type": "code",
   "execution_count": 268,
   "metadata": {},
   "outputs": [],
   "source": [
    "# random sample split for xgboost\n",
    "\n",
    "model_xgb = make_pipeline(\n",
    "    OrdinalEncoder(),\n",
    "    SimpleImputer(),\n",
    "    XGBClassifier(random_state=42, n_jobs=10)\n",
    ")\n",
    "\n",
    "model_xgb.fit(X_train, y_train);\n",
    "\n",
    "# tree random forest\n",
    "model_rf1 = make_pipeline(\n",
    "    OrdinalEncoder(), \n",
    "    SimpleImputer(strategy='mean'), \n",
    "    RandomForestClassifier(n_estimators=20, random_state=42, n_jobs=-1)\n",
    ")\n",
    "\n",
    "# Fit on train, score on val\n",
    "model_rf1.fit(X_train, y_train);"
   ]
  },
  {
   "cell_type": "code",
   "execution_count": 269,
   "metadata": {},
   "outputs": [
    {
     "name": "stdout",
     "output_type": "stream",
     "text": [
      "XGBoost Training Accuracy random: 0.8632841946561689\n",
      "XGBoost Validation Accuracy random: 0.8522489320713628\n",
      "RF Training Accuracy random: 0.9875931820085434\n",
      "RF Validation Accuracy random: 0.8643940028478097\n"
     ]
    }
   ],
   "source": [
    "# \n",
    "print('XGBoost Training Accuracy random:', model_xgb.score(X_train, y_train))\n",
    "print('XGBoost Validation Accuracy random:', model_xgb.score(X_val, y_val))\n",
    "\n",
    "\n",
    "#Accuracy\n",
    "print('RF Training Accuracy random:', model_rf1.score(X_train, y_train))\n",
    "print('RF Validation Accuracy random:', model_rf1.score(X_val, y_val))"
   ]
  },
  {
   "cell_type": "markdown",
   "metadata": {},
   "source": [
    "## Visual graphs"
   ]
  },
  {
   "cell_type": "code",
   "execution_count": 251,
   "metadata": {
    "colab": {
     "base_uri": "https://localhost:8080/",
     "height": 281
    },
    "id": "_9kdimade6TG",
    "outputId": "7c3d36e9-afde-4ba0-9881-0182248089b2"
   },
   "outputs": [
    {
     "data": {
      "image/png": "[encoded data removed]",
      "text/plain": [
       "<Figure size 432x288 with 1 Axes>"
      ]
     },
     "metadata": {
      "needs_background": "light"
     },
     "output_type": "display_data"
    }
   ],
   "source": [
    "# feature importances\n",
    "\n",
    "importances = model_rf.named_steps['randomforestclassifier'].feature_importances_\n",
    "\n",
    "feat_imp = pd.Series(importances, index=X_train.columns).sort_values()\n",
    "feat_imp.tail(10).plot(kind='barh')\n",
    "plt.xlabel('')\n",
    "plt.ylabel('Feature')\n",
    "plt.title('Feature importance for random forest model');"
   ]
  },
  {
   "cell_type": "code",
   "execution_count": 253,
   "metadata": {
    "id": "tHRw-TJCfm80"
   },
   "outputs": [],
   "source": [
    "# get permutation importances\n",
    "\n",
    "perm_imp = permutation_importance(model_rf1, X_val, y_val, n_jobs=10, random_state=42)"
   ]
  },
  {
   "cell_type": "code",
   "execution_count": 254,
   "metadata": {
    "colab": {
     "base_uri": "https://localhost:8080/",
     "height": 295
    },
    "id": "NiGbA_mCgyVk",
    "outputId": "04f079d3-8860-49bd-d1dc-91185c1a4455",
    "scrolled": true
   },
   "outputs": [
    {
     "data": {
      "image/png": "[encoded data removed]",
      "text/plain": [
       "<Figure size 432x288 with 1 Axes>"
      ]
     },
     "metadata": {
      "needs_background": "light"
     },
     "output_type": "display_data"
    }
   ],
   "source": [
    "\n",
    "# Put results into DataFrame\n",
    "data = {'importances_mean' : perm_imp['importances_mean'],\n",
    "        'importances_std' : perm_imp['importances_std']}\n",
    "\n",
    "df1 = pd.DataFrame(data, index=X_val.columns)\n",
    "df1.sort_values('importances_mean', ascending=True, inplace=True)\n",
    "\n",
    "# Make plot\n",
    "df1['importances_mean'].tail(15).plot(kind='barh')\n",
    "plt.xlabel('Importance (change in accuracy)')\n",
    "plt.ylabel('Feature')\n",
    "plt.title('Permutation importance for random forest model');"
   ]
  },
  {
   "cell_type": "code",
   "execution_count": 255,
   "metadata": {},
   "outputs": [
    {
     "data": {
      "text/plain": [
       "No Deposit    104641\n",
       "Non Refund     14587\n",
       "Refundable       162\n",
       "Name: deposit_type, dtype: int64"
      ]
     },
     "execution_count": 255,
     "metadata": {},
     "output_type": "execute_result"
    }
   ],
   "source": [
    "df['deposit_type'].value_counts()"
   ]
  },
  {
   "cell_type": "code",
   "execution_count": null,
   "metadata": {},
   "outputs": [],
   "source": [
    "X_val.columns"
   ]
  },
  {
   "cell_type": "code",
   "execution_count": 82,
   "metadata": {},
   "outputs": [
    {
     "name": "stderr",
     "output_type": "stream",
     "text": [
      "findfont: Font family ['Arial'] not found. Falling back to DejaVu Sans.\n"
     ]
    },
    {
     "data": {
      "image/png": "[encoded data removed]",
      "text/plain": [
       "<Figure size 540x684 with 3 Axes>"
      ]
     },
     "metadata": {
      "needs_background": "light"
     },
     "output_type": "display_data"
    }
   ],
   "source": [
    "features = ['is_repeated_guest', 'previous_cancellations']\n",
    "\n",
    "interact = pdp_interact(\n",
    "    model=model_rf1,\n",
    "    dataset=X_val, # <-- use validation data\n",
    "    model_features=X_val.columns,\n",
    "    features=features\n",
    ")\n",
    "\n",
    "pdp_interact_plot(interact, plot_type='grid', feature_names=features);"
   ]
  },
  {
   "cell_type": "code",
   "execution_count": 75,
   "metadata": {},
   "outputs": [
    {
     "data": {
      "image/png": "[encoded data removed]",
      "text/plain": [
       "<Figure size 432x288 with 2 Axes>"
      ]
     },
     "metadata": {
      "needs_background": "light"
     },
     "output_type": "display_data"
    }
   ],
   "source": [
    "plot_confusion_matrix(model_rf1, X_val, y_val, # <-- Use validation data\n",
    "                      values_format='.0f',\n",
    "                      display_labels=['Not Canceled or Checked Out', 'Canceled']);"
   ]
  },
  {
   "cell_type": "markdown",
   "metadata": {},
   "source": [
    "## Second Wrangle\n",
    "\n",
    "- add pandemic column "
   ]
  },
  {
   "cell_type": "code",
   "execution_count": 143,
   "metadata": {},
   "outputs": [],
   "source": [
    "# def wrangle1(X1):\n",
    "\n",
    "\n",
    "#     # Drop high cardinality cols\n",
    "#     high_card_cols = [col for col in X1.select_dtypes('object').columns\n",
    "#                       if X1[col].nunique() > 100]\n",
    "\n",
    "#     X1.drop(columns=high_card_cols, inplace=True)\n",
    "    \n",
    "#     #to datetime\n",
    "#     X1['reservation_status_date'] = pd.to_datetime(X1.reservation_status_date)\n",
    "\n",
    "#     X1['res_status_date_day'] = X1['reservation_status_date'].dt.day\n",
    "#     X1['res_status_date_dayofweek'] = X1['reservation_status_date'].dt.dayofweek\n",
    "#     X1['res_status_date_month'] = X1['reservation_status_date'].dt.month\n",
    "#     X1['res_status_date_year'] = X1['reservation_status_date'].dt.year\n",
    "#     # arrival date months to int\n",
    "    \n",
    "#     X1['arrival_date_month'] = X1['arrival_date_month'].replace({'January':1,\n",
    "#                                                               'February':2,\n",
    "#                                                               'March':3,\n",
    "#                                                               'April':4,\n",
    "#                                                               'May':5,\n",
    "#                                                               'June':6,\n",
    "#                                                               'July':7,\n",
    "#                                                               'August':8,\n",
    "#                                                               'September':9,\n",
    "#                                                               'October':10,\n",
    "#                                                               'November':11,\n",
    "#                                                               'December':12}) \n",
    "\n",
    "\n",
    "#      #Drop data leak columns\n",
    "#     cols = ['reservation_status_date', 'reservation_status']\n",
    "#     X1.drop(columns=cols, inplace=True)\n",
    "\n",
    "#     return X1"
   ]
  },
  {
   "cell_type": "code",
   "execution_count": 439,
   "metadata": {},
   "outputs": [],
   "source": [
    "df2 = pd.read_csv('https://raw.githubusercontent.com/rassamyjs/Ds20_build2/main/hotel_bookings.csv',\n",
    "                 )\n"
   ]
  },
  {
   "cell_type": "code",
   "execution_count": 440,
   "metadata": {},
   "outputs": [],
   "source": [
    "#to datetime\n",
    "df2['reservation_status_date'] = pd.to_datetime(df2.reservation_status_date)\n",
    "\n",
    "df2['res_status_date_day'] = df2['reservation_status_date'].dt.day\n",
    "df2['res_status_date_dayofweek'] = df2['reservation_status_date'].dt.dayofweek\n",
    "df2['res_status_date_month'] = df2['reservation_status_date'].dt.month\n",
    "df2['res_status_date_year'] = df2['reservation_status_date'].dt.year\n",
    "\n",
    "df2.set_index(['reservation_status_date'], inplace=True)"
   ]
  },
  {
   "cell_type": "code",
   "execution_count": 441,
   "metadata": {},
   "outputs": [],
   "source": [
    "# add pandemic as feature\n",
    "df2['pandemic'] = df2['res_status_date_year']\n"
   ]
  },
  {
   "cell_type": "code",
   "execution_count": 442,
   "metadata": {},
   "outputs": [],
   "source": [
    "# say 2016 is 2020 when the lockdown occured\n",
    "# 2017 - 2021 future prediction\n",
    "df2['pandemic'] = df2['pandemic'].replace({2014:0,\n",
    "                         2015:0,\n",
    "                        2016:1,\n",
    "                        2017:1})\n"
   ]
  },
  {
   "cell_type": "code",
   "execution_count": 443,
   "metadata": {},
   "outputs": [
    {
     "data": {
      "text/plain": [
       "1    94280\n",
       "0    25110\n",
       "Name: pandemic, dtype: int64"
      ]
     },
     "execution_count": 443,
     "metadata": {},
     "output_type": "execute_result"
    }
   ],
   "source": [
    "df2['pandemic'].value_counts()"
   ]
  },
  {
   "cell_type": "code",
   "execution_count": 444,
   "metadata": {},
   "outputs": [
    {
     "data": {
      "text/plain": [
       "0    75166\n",
       "1    44224\n",
       "Name: is_canceled, dtype: int64"
      ]
     },
     "execution_count": 444,
     "metadata": {},
     "output_type": "execute_result"
    }
   ],
   "source": [
    "df2['is_canceled'].value_counts()"
   ]
  },
  {
   "cell_type": "code",
   "execution_count": 445,
   "metadata": {},
   "outputs": [],
   "source": [
    "# say around april-july people canceled bookings because of covid\n",
    "df2.loc['2016-04-01':'2016-07-31', 'is_canceled'] = 1"
   ]
  },
  {
   "cell_type": "code",
   "execution_count": 446,
   "metadata": {},
   "outputs": [
    {
     "data": {
      "text/plain": [
       "0    61978\n",
       "1    57412\n",
       "Name: is_canceled, dtype: int64"
      ]
     },
     "execution_count": 446,
     "metadata": {},
     "output_type": "execute_result"
    }
   ],
   "source": [
    "df2['is_canceled'].value_counts()"
   ]
  },
  {
   "cell_type": "code",
   "execution_count": 448,
   "metadata": {},
   "outputs": [],
   "source": [
    "def wrangle(X):\n",
    "    # Make a copy\n",
    "    X = X.copy()\n",
    "\n",
    "    # Drop high cardinality cols\n",
    "    high_card_cols = [col for col in X.select_dtypes('object').columns\n",
    "                      if X[col].nunique() > 100]\n",
    "\n",
    "    X.drop(columns=high_card_cols, inplace=True)\n",
    "\n",
    "    #  Drop data leak columns\n",
    "    cols = ['arrival_date_year', 'arrival_date_month', 'arrival_date_week_number',\n",
    "            'arrival_date_day_of_month', 'reservation_status', 'res_status_date_year',\n",
    "           'res_status_date_month', 'res_status_date_dayofweek', 'res_status_date_day']\n",
    "    X.drop(columns=cols, inplace=True)\n",
    "\n",
    "    return X"
   ]
  },
  {
   "cell_type": "code",
   "execution_count": 449,
   "metadata": {},
   "outputs": [],
   "source": [
    "df2 = wrangle(df2)"
   ]
  },
  {
   "cell_type": "code",
   "execution_count": 450,
   "metadata": {},
   "outputs": [],
   "source": [
    "\n",
    "target = 'is_canceled'\n",
    "features = df2.columns.drop('is_canceled')\n",
    "\n",
    "# split with/ time and random\n",
    "train1 = df2[df2.index.year < 2017]\n",
    "val1 = test = df2[df2.index.year == 2017]\n",
    "\n",
    "target = 'is_canceled'\n",
    "y = df2[target]\n",
    "X = df2.drop(target, axis=1)\n"
   ]
  },
  {
   "cell_type": "code",
   "execution_count": 451,
   "metadata": {},
   "outputs": [],
   "source": [
    "X_train, X_val, y_train, y_val = train_test_split(X, y, test_size=0.2, random_state=42)\n",
    "\n",
    "X_train1 = train1[features]\n",
    "y_train1 = train1[target]\n",
    "\n",
    "X_val1 = val1[features]\n",
    "y_val1 = val1[target]\n",
    "\n"
   ]
  },
  {
   "cell_type": "code",
   "execution_count": 452,
   "metadata": {},
   "outputs": [
    {
     "name": "stdout",
     "output_type": "stream",
     "text": [
      "Baseline Accuracy: 0.5580228448743774\n"
     ]
    },
    {
     "data": {
      "text/plain": [
       "1    0.558023\n",
       "0    0.441977\n",
       "Name: is_canceled, dtype: float64"
      ]
     },
     "execution_count": 452,
     "metadata": {},
     "output_type": "execute_result"
    }
   ],
   "source": [
    "baseline_acc1 = y_train1.value_counts(normalize=True).max()\n",
    "print('Baseline Accuracy:', baseline_acc1)\n",
    "y_train1.value_counts(normalize=True)"
   ]
  },
  {
   "cell_type": "code",
   "execution_count": 453,
   "metadata": {},
   "outputs": [
    {
     "data": {
      "text/plain": [
       "((95512, 25), (23878, 25), (95512,), (23878,))"
      ]
     },
     "execution_count": 453,
     "metadata": {},
     "output_type": "execute_result"
    }
   ],
   "source": [
    "X_train.shape, X_val.shape, y_train.shape, y_val.shape\n",
    "\n"
   ]
  },
  {
   "cell_type": "code",
   "execution_count": 454,
   "metadata": {},
   "outputs": [
    {
     "data": {
      "text/plain": [
       "((82907, 25), (36483, 25), (82907,), (36483,))"
      ]
     },
     "execution_count": 454,
     "metadata": {},
     "output_type": "execute_result"
    }
   ],
   "source": [
    "X_train1.shape, X_val1.shape, y_train1.shape, y_val1.shape\n"
   ]
  },
  {
   "cell_type": "code",
   "execution_count": 455,
   "metadata": {},
   "outputs": [],
   "source": [
    "# preform logistic regression time\n",
    "model_log = make_pipeline(\n",
    "    OrdinalEncoder(),\n",
    "    SimpleImputer(),\n",
    "    LogisticRegression()\n",
    "\n",
    "\n",
    "\n",
    ")\n",
    "\n",
    "\n",
    "\n",
    "model_log.fit(X_train1, y_train1);\n",
    "\n",
    "# preform logistic regression random\n",
    "model_log1 = make_pipeline(\n",
    "    OrdinalEncoder(),\n",
    "    SimpleImputer(),\n",
    "    LogisticRegression()\n",
    "\n",
    "\n",
    "\n",
    ")\n",
    "\n",
    "\n",
    "\n",
    "model_log1.fit(X_train, y_train);"
   ]
  },
  {
   "cell_type": "code",
   "execution_count": 456,
   "metadata": {},
   "outputs": [
    {
     "name": "stdout",
     "output_type": "stream",
     "text": [
      "Training Accuracy Score Time: 0.7020758198945807\n",
      "Validation Accuracy Score Time: 0.5463914699997259\n",
      "Training Accuracy Score Random: 0.6541481698634727\n",
      "Validation Accuracy Score Random: 0.6559175810369378\n"
     ]
    }
   ],
   "source": [
    "# check metric\n",
    "print('Training Accuracy Score Time:', model_log.score(X_train1, y_train1))\n",
    "print('Validation Accuracy Score Time:', model_log.score(X_val1, y_val1))\n",
    "\n",
    "\n",
    "print('Training Accuracy Score Random:', model_log.score(X_train, y_train))\n",
    "print('Validation Accuracy Score Random:', model_log.score(X_val, y_val))"
   ]
  },
  {
   "cell_type": "code",
   "execution_count": 457,
   "metadata": {},
   "outputs": [],
   "source": [
    "# tree random forest\n",
    "model_rf1 = make_pipeline(\n",
    "    OrdinalEncoder(), \n",
    "    SimpleImputer(strategy='mean'), \n",
    "    RandomForestClassifier(n_estimators=20, random_state=42, n_jobs=-1)\n",
    ")\n",
    "\n",
    "# Fit on train, score on val\n",
    "model_rf1.fit(X_train, y_train);\n",
    "\n",
    "\n",
    "model_rf = make_pipeline(\n",
    "    OrdinalEncoder(), \n",
    "    SimpleImputer(strategy='mean'), \n",
    "    RandomForestClassifier(n_estimators=20, random_state=42, n_jobs=-1)\n",
    ")\n",
    "\n",
    "# Fit on train, score on val\n",
    "model_rf.fit(X_train1, y_train1);\n",
    "\n"
   ]
  },
  {
   "cell_type": "code",
   "execution_count": 458,
   "metadata": {},
   "outputs": [
    {
     "name": "stdout",
     "output_type": "stream",
     "text": [
      "RF Training Accuracy Time: 0.990676299950547\n",
      "RF Validation Accuracy Time: 0.6105857522681797\n",
      "RF Training Accuracy random: 0.9892893039618058\n",
      "RF Validation Accuracy random: 0.8197085183013653\n"
     ]
    }
   ],
   "source": [
    "#Accuracy\n",
    "print('RF Training Accuracy Time:', model_rf.score(X_train1, y_train1))\n",
    "print('RF Validation Accuracy Time:', model_rf.score(X_val1, y_val1))\n",
    "\n",
    "#Accuracy\n",
    "print('RF Training Accuracy random:', model_rf1.score(X_train, y_train))\n",
    "print('RF Validation Accuracy random:', model_rf1.score(X_val, y_val))\n"
   ]
  },
  {
   "cell_type": "code",
   "execution_count": 459,
   "metadata": {},
   "outputs": [
    {
     "data": {
      "image/png": "[encoded data removed]",
      "text/plain": [
       "<Figure size 432x288 with 1 Axes>"
      ]
     },
     "metadata": {
      "needs_background": "light"
     },
     "output_type": "display_data"
    }
   ],
   "source": [
    "# feature importances\n",
    "\n",
    "importances = model_rf.named_steps['randomforestclassifier'].feature_importances_\n",
    "\n",
    "feat_imp = pd.Series(importances, index=X_train.columns).sort_values()\n",
    "feat_imp.tail(10).plot(kind='barh')\n",
    "plt.xlabel('')\n",
    "plt.ylabel('Feature')\n",
    "plt.title('Feature importance for random forest model');"
   ]
  },
  {
   "cell_type": "code",
   "execution_count": 460,
   "metadata": {},
   "outputs": [],
   "source": [
    "# get permutation importances\n",
    "\n",
    "perm_imp = permutation_importance(model_rf1, X_val, y_val, n_jobs=10, random_state=42)"
   ]
  },
  {
   "cell_type": "code",
   "execution_count": 461,
   "metadata": {},
   "outputs": [
    {
     "data": {
      "image/png": "[encoded data removed]",
      "text/plain": [
       "<Figure size 432x288 with 1 Axes>"
      ]
     },
     "metadata": {
      "needs_background": "light"
     },
     "output_type": "display_data"
    }
   ],
   "source": [
    "\n",
    "# Put results into DataFrame\n",
    "data = {'importances_mean' : perm_imp['importances_mean'],\n",
    "        'importances_std' : perm_imp['importances_std']}\n",
    "\n",
    "df1 = pd.DataFrame(data, index=X_val.columns)\n",
    "df1.sort_values('importances_mean', ascending=True, inplace=True)\n",
    "\n",
    "# Make plot\n",
    "df1['importances_mean'].tail(10).plot(kind='barh')\n",
    "plt.xlabel('Pandemic Special')\n",
    "plt.ylabel('Feature')\n",
    "plt.title('Permutation importance for random forest model');"
   ]
  },
  {
   "cell_type": "code",
   "execution_count": 464,
   "metadata": {},
   "outputs": [
    {
     "data": {
      "image/png": "[encoded data removed]",
      "text/plain": [
       "<Figure size 432x288 with 2 Axes>"
      ]
     },
     "metadata": {
      "needs_background": "light"
     },
     "output_type": "display_data"
    }
   ],
   "source": [
    "plot_confusion_matrix(model_rf1, X_val, y_val, # <-- Use validation data\n",
    "                      values_format='.0f',\n",
    "                      display_labels=['Not Canceled', 'Canceled']);"
   ]
  },
  {
   "cell_type": "code",
   "execution_count": 463,
   "metadata": {},
   "outputs": [
    {
     "data": {
      "text/html": [
       "<div>\n",
       "<style scoped>\n",
       "    .dataframe tbody tr th:only-of-type {\n",
       "        vertical-align: middle;\n",
       "    }\n",
       "\n",
       "    .dataframe tbody tr th {\n",
       "        vertical-align: top;\n",
       "    }\n",
       "\n",
       "    .dataframe thead th {\n",
       "        text-align: right;\n",
       "    }\n",
       "</style>\n",
       "<table border=\"1\" class=\"dataframe\">\n",
       "  <thead>\n",
       "    <tr style=\"text-align: right;\">\n",
       "      <th></th>\n",
       "      <th>hotel</th>\n",
       "      <th>is_canceled</th>\n",
       "      <th>lead_time</th>\n",
       "      <th>stays_in_weekend_nights</th>\n",
       "      <th>stays_in_week_nights</th>\n",
       "      <th>adults</th>\n",
       "      <th>children</th>\n",
       "      <th>babies</th>\n",
       "      <th>meal</th>\n",
       "      <th>market_segment</th>\n",
       "      <th>...</th>\n",
       "      <th>booking_changes</th>\n",
       "      <th>deposit_type</th>\n",
       "      <th>agent</th>\n",
       "      <th>company</th>\n",
       "      <th>days_in_waiting_list</th>\n",
       "      <th>customer_type</th>\n",
       "      <th>adr</th>\n",
       "      <th>required_car_parking_spaces</th>\n",
       "      <th>total_of_special_requests</th>\n",
       "      <th>pandemic</th>\n",
       "    </tr>\n",
       "    <tr>\n",
       "      <th>reservation_status_date</th>\n",
       "      <th></th>\n",
       "      <th></th>\n",
       "      <th></th>\n",
       "      <th></th>\n",
       "      <th></th>\n",
       "      <th></th>\n",
       "      <th></th>\n",
       "      <th></th>\n",
       "      <th></th>\n",
       "      <th></th>\n",
       "      <th></th>\n",
       "      <th></th>\n",
       "      <th></th>\n",
       "      <th></th>\n",
       "      <th></th>\n",
       "      <th></th>\n",
       "      <th></th>\n",
       "      <th></th>\n",
       "      <th></th>\n",
       "      <th></th>\n",
       "      <th></th>\n",
       "    </tr>\n",
       "  </thead>\n",
       "  <tbody>\n",
       "    <tr>\n",
       "      <th>2015-07-01</th>\n",
       "      <td>Resort Hotel</td>\n",
       "      <td>0</td>\n",
       "      <td>342</td>\n",
       "      <td>0</td>\n",
       "      <td>0</td>\n",
       "      <td>2</td>\n",
       "      <td>0.0</td>\n",
       "      <td>0</td>\n",
       "      <td>BB</td>\n",
       "      <td>Direct</td>\n",
       "      <td>...</td>\n",
       "      <td>3</td>\n",
       "      <td>No Deposit</td>\n",
       "      <td>NaN</td>\n",
       "      <td>NaN</td>\n",
       "      <td>0</td>\n",
       "      <td>Transient</td>\n",
       "      <td>0.0</td>\n",
       "      <td>0</td>\n",
       "      <td>0</td>\n",
       "      <td>0</td>\n",
       "    </tr>\n",
       "    <tr>\n",
       "      <th>2015-07-01</th>\n",
       "      <td>Resort Hotel</td>\n",
       "      <td>0</td>\n",
       "      <td>737</td>\n",
       "      <td>0</td>\n",
       "      <td>0</td>\n",
       "      <td>2</td>\n",
       "      <td>0.0</td>\n",
       "      <td>0</td>\n",
       "      <td>BB</td>\n",
       "      <td>Direct</td>\n",
       "      <td>...</td>\n",
       "      <td>4</td>\n",
       "      <td>No Deposit</td>\n",
       "      <td>NaN</td>\n",
       "      <td>NaN</td>\n",
       "      <td>0</td>\n",
       "      <td>Transient</td>\n",
       "      <td>0.0</td>\n",
       "      <td>0</td>\n",
       "      <td>0</td>\n",
       "      <td>0</td>\n",
       "    </tr>\n",
       "    <tr>\n",
       "      <th>2015-07-02</th>\n",
       "      <td>Resort Hotel</td>\n",
       "      <td>0</td>\n",
       "      <td>7</td>\n",
       "      <td>0</td>\n",
       "      <td>1</td>\n",
       "      <td>1</td>\n",
       "      <td>0.0</td>\n",
       "      <td>0</td>\n",
       "      <td>BB</td>\n",
       "      <td>Direct</td>\n",
       "      <td>...</td>\n",
       "      <td>0</td>\n",
       "      <td>No Deposit</td>\n",
       "      <td>NaN</td>\n",
       "      <td>NaN</td>\n",
       "      <td>0</td>\n",
       "      <td>Transient</td>\n",
       "      <td>75.0</td>\n",
       "      <td>0</td>\n",
       "      <td>0</td>\n",
       "      <td>0</td>\n",
       "    </tr>\n",
       "    <tr>\n",
       "      <th>2015-07-02</th>\n",
       "      <td>Resort Hotel</td>\n",
       "      <td>0</td>\n",
       "      <td>13</td>\n",
       "      <td>0</td>\n",
       "      <td>1</td>\n",
       "      <td>1</td>\n",
       "      <td>0.0</td>\n",
       "      <td>0</td>\n",
       "      <td>BB</td>\n",
       "      <td>Corporate</td>\n",
       "      <td>...</td>\n",
       "      <td>0</td>\n",
       "      <td>No Deposit</td>\n",
       "      <td>304.0</td>\n",
       "      <td>NaN</td>\n",
       "      <td>0</td>\n",
       "      <td>Transient</td>\n",
       "      <td>75.0</td>\n",
       "      <td>0</td>\n",
       "      <td>0</td>\n",
       "      <td>0</td>\n",
       "    </tr>\n",
       "    <tr>\n",
       "      <th>2015-07-03</th>\n",
       "      <td>Resort Hotel</td>\n",
       "      <td>0</td>\n",
       "      <td>14</td>\n",
       "      <td>0</td>\n",
       "      <td>2</td>\n",
       "      <td>2</td>\n",
       "      <td>0.0</td>\n",
       "      <td>0</td>\n",
       "      <td>BB</td>\n",
       "      <td>Online TA</td>\n",
       "      <td>...</td>\n",
       "      <td>0</td>\n",
       "      <td>No Deposit</td>\n",
       "      <td>240.0</td>\n",
       "      <td>NaN</td>\n",
       "      <td>0</td>\n",
       "      <td>Transient</td>\n",
       "      <td>98.0</td>\n",
       "      <td>0</td>\n",
       "      <td>1</td>\n",
       "      <td>0</td>\n",
       "    </tr>\n",
       "  </tbody>\n",
       "</table>\n",
       "<p>5 rows × 26 columns</p>\n",
       "</div>"
      ],
      "text/plain": [
       "                                hotel  is_canceled  lead_time  \\\n",
       "reservation_status_date                                         \n",
       "2015-07-01               Resort Hotel            0        342   \n",
       "2015-07-01               Resort Hotel            0        737   \n",
       "2015-07-02               Resort Hotel            0          7   \n",
       "2015-07-02               Resort Hotel            0         13   \n",
       "2015-07-03               Resort Hotel            0         14   \n",
       "\n",
       "                         stays_in_weekend_nights  stays_in_week_nights  \\\n",
       "reservation_status_date                                                  \n",
       "2015-07-01                                     0                     0   \n",
       "2015-07-01                                     0                     0   \n",
       "2015-07-02                                     0                     1   \n",
       "2015-07-02                                     0                     1   \n",
       "2015-07-03                                     0                     2   \n",
       "\n",
       "                         adults  children  babies meal market_segment  ...  \\\n",
       "reservation_status_date                                                ...   \n",
       "2015-07-01                    2       0.0       0   BB         Direct  ...   \n",
       "2015-07-01                    2       0.0       0   BB         Direct  ...   \n",
       "2015-07-02                    1       0.0       0   BB         Direct  ...   \n",
       "2015-07-02                    1       0.0       0   BB      Corporate  ...   \n",
       "2015-07-03                    2       0.0       0   BB      Online TA  ...   \n",
       "\n",
       "                        booking_changes  deposit_type  agent  company  \\\n",
       "reservation_status_date                                                 \n",
       "2015-07-01                            3    No Deposit    NaN      NaN   \n",
       "2015-07-01                            4    No Deposit    NaN      NaN   \n",
       "2015-07-02                            0    No Deposit    NaN      NaN   \n",
       "2015-07-02                            0    No Deposit  304.0      NaN   \n",
       "2015-07-03                            0    No Deposit  240.0      NaN   \n",
       "\n",
       "                        days_in_waiting_list customer_type   adr  \\\n",
       "reservation_status_date                                            \n",
       "2015-07-01                                 0     Transient   0.0   \n",
       "2015-07-01                                 0     Transient   0.0   \n",
       "2015-07-02                                 0     Transient  75.0   \n",
       "2015-07-02                                 0     Transient  75.0   \n",
       "2015-07-03                                 0     Transient  98.0   \n",
       "\n",
       "                        required_car_parking_spaces  \\\n",
       "reservation_status_date                               \n",
       "2015-07-01                                        0   \n",
       "2015-07-01                                        0   \n",
       "2015-07-02                                        0   \n",
       "2015-07-02                                        0   \n",
       "2015-07-03                                        0   \n",
       "\n",
       "                         total_of_special_requests  pandemic  \n",
       "reservation_status_date                                       \n",
       "2015-07-01                                       0         0  \n",
       "2015-07-01                                       0         0  \n",
       "2015-07-02                                       0         0  \n",
       "2015-07-02                                       0         0  \n",
       "2015-07-03                                       1         0  \n",
       "\n",
       "[5 rows x 26 columns]"
      ]
     },
     "execution_count": 463,
     "metadata": {},
     "output_type": "execute_result"
    }
   ],
   "source": [
    "df2.head()"
   ]
  },
  {
   "cell_type": "code",
   "execution_count": null,
   "metadata": {},
   "outputs": [],
   "source": []
  }
 ],
 "metadata": {
  "colab": {
   "name": "Sprint 2 Build ",
   "provenance": []
  },
  "kernelspec": {
   "display_name": "Python 3",
   "language": "python",
   "name": "python3"
  },
  "language_info": {
   "codemirror_mode": {
    "name": "ipython",
    "version": 3
   },
   "file_extension": ".py",
   "mimetype": "text/x-python",
   "name": "python",
   "nbconvert_exporter": "python",
   "pygments_lexer": "ipython3",
   "version": "3.8.5"
  }
 },
 "nbformat": 4,
 "nbformat_minor": 1
}
