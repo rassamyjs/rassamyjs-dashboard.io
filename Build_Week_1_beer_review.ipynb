{
  "nbformat": 4,
  "nbformat_minor": 0,
  "metadata": {
    "colab": {
      "name": "Build Week 1 beer review",
      "provenance": [],
      "authorship_tag": "ABX9TyOHnGJW1l1LPrDvqcFJPjKj",
      "include_colab_link": true
    },
    "kernelspec": {
      "name": "python3",
      "display_name": "Python 3"
    }
  },
  "cells": [
    {
      "cell_type": "markdown",
      "metadata": {
        "id": "view-in-github",
        "colab_type": "text"
      },
      "source": [
        "<a href=\"https://colab.research.google.com/github/rassamyjs/rassamyjs-dashboard.io/blob/master/Build_Week_1_beer_review.ipynb\" target=\"_parent\"><img src=\"https://colab.research.google.com/assets/colab-badge.svg\" alt=\"Open In Colab\"/></a>"
      ]
    },
    {
      "cell_type": "code",
      "metadata": {
        "id": "ESHn-mrciptP",
        "colab_type": "code",
        "colab": {
          "base_uri": "https://localhost:8080/",
          "height": 71
        },
        "outputId": "64e6d9c2-fa02-4727-d67d-a362abab53d9"
      },
      "source": [
        "import pandas as pd\n",
        "import numpy as np\n",
        "import matplotlib.pyplot as plt\n",
        "import seaborn as sns"
      ],
      "execution_count": 1,
      "outputs": [
        {
          "output_type": "stream",
          "text": [
            "/usr/local/lib/python3.6/dist-packages/statsmodels/tools/_testing.py:19: FutureWarning: pandas.util.testing is deprecated. Use the functions in the public API at pandas.testing instead.\n",
            "  import pandas.util.testing as tm\n"
          ],
          "name": "stderr"
        }
      ]
    },
    {
      "cell_type": "markdown",
      "metadata": {
        "id": "xenh68vZNBG-",
        "colab_type": "text"
      },
      "source": [
        "[kaggle](https://www.kaggle.com/rdoume/beerreviews)"
      ]
    },
    {
      "cell_type": "code",
      "metadata": {
        "id": "yB204SQljy3L",
        "colab_type": "code",
        "colab": {
          "base_uri": "https://localhost:8080/",
          "height": 51
        },
        "outputId": "a4e4a6ca-683d-4a9d-d5f1-2906634dada1"
      },
      "source": [
        "# acess via download from computer and then unzip\n",
        "!unzip archive.zip"
      ],
      "execution_count": 2,
      "outputs": [
        {
          "output_type": "stream",
          "text": [
            "Archive:  archive.zip\n",
            "  inflating: beer_reviews.csv        \n"
          ],
          "name": "stdout"
        }
      ]
    },
    {
      "cell_type": "code",
      "metadata": {
        "id": "vUeKeaiVjMyl",
        "colab_type": "code",
        "colab": {}
      },
      "source": [
        "data = pd.read_csv('beer_reviews.csv')\n",
        "data_copy = data.copy()"
      ],
      "execution_count": 3,
      "outputs": []
    },
    {
      "cell_type": "code",
      "metadata": {
        "id": "Dt2XAAVlkUsh",
        "colab_type": "code",
        "colab": {
          "base_uri": "https://localhost:8080/",
          "height": 719
        },
        "outputId": "e59aa164-5a13-409f-ebb7-02e1548e22ad"
      },
      "source": [
        "data_copy.tail(10)"
      ],
      "execution_count": 4,
      "outputs": [
        {
          "output_type": "execute_result",
          "data": {
            "text/html": [
              "<div>\n",
              "<style scoped>\n",
              "    .dataframe tbody tr th:only-of-type {\n",
              "        vertical-align: middle;\n",
              "    }\n",
              "\n",
              "    .dataframe tbody tr th {\n",
              "        vertical-align: top;\n",
              "    }\n",
              "\n",
              "    .dataframe thead th {\n",
              "        text-align: right;\n",
              "    }\n",
              "</style>\n",
              "<table border=\"1\" class=\"dataframe\">\n",
              "  <thead>\n",
              "    <tr style=\"text-align: right;\">\n",
              "      <th></th>\n",
              "      <th>brewery_id</th>\n",
              "      <th>brewery_name</th>\n",
              "      <th>review_time</th>\n",
              "      <th>review_overall</th>\n",
              "      <th>review_aroma</th>\n",
              "      <th>review_appearance</th>\n",
              "      <th>review_profilename</th>\n",
              "      <th>beer_style</th>\n",
              "      <th>review_palate</th>\n",
              "      <th>review_taste</th>\n",
              "      <th>beer_name</th>\n",
              "      <th>beer_abv</th>\n",
              "      <th>beer_beerid</th>\n",
              "    </tr>\n",
              "  </thead>\n",
              "  <tbody>\n",
              "    <tr>\n",
              "      <th>1586604</th>\n",
              "      <td>14359</td>\n",
              "      <td>The Defiant Brewing Company</td>\n",
              "      <td>1288890206</td>\n",
              "      <td>4.0</td>\n",
              "      <td>4.5</td>\n",
              "      <td>4.5</td>\n",
              "      <td>njmoons</td>\n",
              "      <td>Pumpkin Ale</td>\n",
              "      <td>3.5</td>\n",
              "      <td>3.5</td>\n",
              "      <td>The Horseman's Ale</td>\n",
              "      <td>5.2</td>\n",
              "      <td>33061</td>\n",
              "    </tr>\n",
              "    <tr>\n",
              "      <th>1586605</th>\n",
              "      <td>14359</td>\n",
              "      <td>The Defiant Brewing Company</td>\n",
              "      <td>1163291143</td>\n",
              "      <td>5.0</td>\n",
              "      <td>5.0</td>\n",
              "      <td>5.0</td>\n",
              "      <td>NyackNicky</td>\n",
              "      <td>Pumpkin Ale</td>\n",
              "      <td>5.0</td>\n",
              "      <td>5.0</td>\n",
              "      <td>The Horseman's Ale</td>\n",
              "      <td>5.2</td>\n",
              "      <td>33061</td>\n",
              "    </tr>\n",
              "    <tr>\n",
              "      <th>1586606</th>\n",
              "      <td>14359</td>\n",
              "      <td>The Defiant Brewing Company</td>\n",
              "      <td>1162871808</td>\n",
              "      <td>5.0</td>\n",
              "      <td>4.5</td>\n",
              "      <td>4.0</td>\n",
              "      <td>blitheringidiot</td>\n",
              "      <td>Pumpkin Ale</td>\n",
              "      <td>5.0</td>\n",
              "      <td>5.0</td>\n",
              "      <td>The Horseman's Ale</td>\n",
              "      <td>5.2</td>\n",
              "      <td>33061</td>\n",
              "    </tr>\n",
              "    <tr>\n",
              "      <th>1586607</th>\n",
              "      <td>14359</td>\n",
              "      <td>The Defiant Brewing Company</td>\n",
              "      <td>1162865640</td>\n",
              "      <td>5.0</td>\n",
              "      <td>5.0</td>\n",
              "      <td>4.5</td>\n",
              "      <td>PopeDX</td>\n",
              "      <td>Pumpkin Ale</td>\n",
              "      <td>5.0</td>\n",
              "      <td>4.5</td>\n",
              "      <td>The Horseman's Ale</td>\n",
              "      <td>5.2</td>\n",
              "      <td>33061</td>\n",
              "    </tr>\n",
              "    <tr>\n",
              "      <th>1586608</th>\n",
              "      <td>14359</td>\n",
              "      <td>The Defiant Brewing Company</td>\n",
              "      <td>1162685856</td>\n",
              "      <td>3.5</td>\n",
              "      <td>4.0</td>\n",
              "      <td>4.0</td>\n",
              "      <td>treehugger02010</td>\n",
              "      <td>Pumpkin Ale</td>\n",
              "      <td>3.5</td>\n",
              "      <td>3.0</td>\n",
              "      <td>The Horseman's Ale</td>\n",
              "      <td>5.2</td>\n",
              "      <td>33061</td>\n",
              "    </tr>\n",
              "    <tr>\n",
              "      <th>1586609</th>\n",
              "      <td>14359</td>\n",
              "      <td>The Defiant Brewing Company</td>\n",
              "      <td>1162684892</td>\n",
              "      <td>5.0</td>\n",
              "      <td>4.0</td>\n",
              "      <td>3.5</td>\n",
              "      <td>maddogruss</td>\n",
              "      <td>Pumpkin Ale</td>\n",
              "      <td>4.0</td>\n",
              "      <td>4.0</td>\n",
              "      <td>The Horseman's Ale</td>\n",
              "      <td>5.2</td>\n",
              "      <td>33061</td>\n",
              "    </tr>\n",
              "    <tr>\n",
              "      <th>1586610</th>\n",
              "      <td>14359</td>\n",
              "      <td>The Defiant Brewing Company</td>\n",
              "      <td>1161048566</td>\n",
              "      <td>4.0</td>\n",
              "      <td>5.0</td>\n",
              "      <td>2.5</td>\n",
              "      <td>yelterdow</td>\n",
              "      <td>Pumpkin Ale</td>\n",
              "      <td>2.0</td>\n",
              "      <td>4.0</td>\n",
              "      <td>The Horseman's Ale</td>\n",
              "      <td>5.2</td>\n",
              "      <td>33061</td>\n",
              "    </tr>\n",
              "    <tr>\n",
              "      <th>1586611</th>\n",
              "      <td>14359</td>\n",
              "      <td>The Defiant Brewing Company</td>\n",
              "      <td>1160702513</td>\n",
              "      <td>4.5</td>\n",
              "      <td>3.5</td>\n",
              "      <td>3.0</td>\n",
              "      <td>TongoRad</td>\n",
              "      <td>Pumpkin Ale</td>\n",
              "      <td>3.5</td>\n",
              "      <td>4.0</td>\n",
              "      <td>The Horseman's Ale</td>\n",
              "      <td>5.2</td>\n",
              "      <td>33061</td>\n",
              "    </tr>\n",
              "    <tr>\n",
              "      <th>1586612</th>\n",
              "      <td>14359</td>\n",
              "      <td>The Defiant Brewing Company</td>\n",
              "      <td>1160023044</td>\n",
              "      <td>4.0</td>\n",
              "      <td>4.5</td>\n",
              "      <td>4.5</td>\n",
              "      <td>dherling</td>\n",
              "      <td>Pumpkin Ale</td>\n",
              "      <td>4.5</td>\n",
              "      <td>4.5</td>\n",
              "      <td>The Horseman's Ale</td>\n",
              "      <td>5.2</td>\n",
              "      <td>33061</td>\n",
              "    </tr>\n",
              "    <tr>\n",
              "      <th>1586613</th>\n",
              "      <td>14359</td>\n",
              "      <td>The Defiant Brewing Company</td>\n",
              "      <td>1160005319</td>\n",
              "      <td>5.0</td>\n",
              "      <td>4.5</td>\n",
              "      <td>4.5</td>\n",
              "      <td>cbl2</td>\n",
              "      <td>Pumpkin Ale</td>\n",
              "      <td>4.5</td>\n",
              "      <td>4.5</td>\n",
              "      <td>The Horseman's Ale</td>\n",
              "      <td>5.2</td>\n",
              "      <td>33061</td>\n",
              "    </tr>\n",
              "  </tbody>\n",
              "</table>\n",
              "</div>"
            ],
            "text/plain": [
              "         brewery_id                 brewery_name  ...  beer_abv  beer_beerid\n",
              "1586604       14359  The Defiant Brewing Company  ...       5.2        33061\n",
              "1586605       14359  The Defiant Brewing Company  ...       5.2        33061\n",
              "1586606       14359  The Defiant Brewing Company  ...       5.2        33061\n",
              "1586607       14359  The Defiant Brewing Company  ...       5.2        33061\n",
              "1586608       14359  The Defiant Brewing Company  ...       5.2        33061\n",
              "1586609       14359  The Defiant Brewing Company  ...       5.2        33061\n",
              "1586610       14359  The Defiant Brewing Company  ...       5.2        33061\n",
              "1586611       14359  The Defiant Brewing Company  ...       5.2        33061\n",
              "1586612       14359  The Defiant Brewing Company  ...       5.2        33061\n",
              "1586613       14359  The Defiant Brewing Company  ...       5.2        33061\n",
              "\n",
              "[10 rows x 13 columns]"
            ]
          },
          "metadata": {
            "tags": []
          },
          "execution_count": 4
        }
      ]
    },
    {
      "cell_type": "markdown",
      "metadata": {
        "id": "5-Y_2Y-emF-S",
        "colab_type": "text"
      },
      "source": [
        "### Build Week\n",
        "\n",
        "Research Question: What was the average review of some of the most reviewed beers? Compare average means of the most reviewed beers. "
      ]
    },
    {
      "cell_type": "code",
      "metadata": {
        "id": "AYxvCaGim_LZ",
        "colab_type": "code",
        "colab": {
          "base_uri": "https://localhost:8080/",
          "height": 204
        },
        "outputId": "820c00f4-5fed-4bde-aee2-6a38d43c4510"
      },
      "source": [
        "# Look up some value counts\n",
        "data_copy['beer_name'].value_counts().head(10)"
      ],
      "execution_count": 5,
      "outputs": [
        {
          "output_type": "execute_result",
          "data": {
            "text/plain": [
              "90 Minute IPA                          3290\n",
              "India Pale Ale                         3130\n",
              "Old Rasputin Russian Imperial Stout    3111\n",
              "Sierra Nevada Celebration Ale          3000\n",
              "Two Hearted Ale                        2728\n",
              "Arrogant Bastard Ale                   2704\n",
              "Stone Ruination IPA                    2704\n",
              "Sierra Nevada Pale Ale                 2587\n",
              "Stone IPA (India Pale Ale)             2575\n",
              "Pliny The Elder                        2527\n",
              "Name: beer_name, dtype: int64"
            ]
          },
          "metadata": {
            "tags": []
          },
          "execution_count": 5
        }
      ]
    },
    {
      "cell_type": "code",
      "metadata": {
        "id": "Gq9egyXdpRfL",
        "colab_type": "code",
        "colab": {}
      },
      "source": [
        "# do some filtering\n",
        "# grab the 10 most reviewed beers\n",
        "most_reviewed = ['90 Minute IPA', 'India Pale Ale', 'Old Rasputin Russian Imperial Stout', \n",
        "                 'Sierra Nevada Celebration Ale', 'Two Hearted Ale', 'Arrogant Bastard Ale',\n",
        "                 'Stone Ruination IPA', 'Sierra Nevada Pale Ale', 'Stone IPA (India Pale Ale)',\n",
        "                 'Pliny The Elder']\n",
        "condition = data_copy['beer_name'].isin(most_reviewed)\n",
        "data_copy = data_copy[condition]\n"
      ],
      "execution_count": 6,
      "outputs": []
    },
    {
      "cell_type": "code",
      "metadata": {
        "id": "QRHGONxG0-54",
        "colab_type": "code",
        "colab": {
          "base_uri": "https://localhost:8080/",
          "height": 428
        },
        "outputId": "caaf6b50-6382-4834-ed6b-78dc0e1fa691"
      },
      "source": [
        "data_copy.head()"
      ],
      "execution_count": 7,
      "outputs": [
        {
          "output_type": "execute_result",
          "data": {
            "text/html": [
              "<div>\n",
              "<style scoped>\n",
              "    .dataframe tbody tr th:only-of-type {\n",
              "        vertical-align: middle;\n",
              "    }\n",
              "\n",
              "    .dataframe tbody tr th {\n",
              "        vertical-align: top;\n",
              "    }\n",
              "\n",
              "    .dataframe thead th {\n",
              "        text-align: right;\n",
              "    }\n",
              "</style>\n",
              "<table border=\"1\" class=\"dataframe\">\n",
              "  <thead>\n",
              "    <tr style=\"text-align: right;\">\n",
              "      <th></th>\n",
              "      <th>brewery_id</th>\n",
              "      <th>brewery_name</th>\n",
              "      <th>review_time</th>\n",
              "      <th>review_overall</th>\n",
              "      <th>review_aroma</th>\n",
              "      <th>review_appearance</th>\n",
              "      <th>review_profilename</th>\n",
              "      <th>beer_style</th>\n",
              "      <th>review_palate</th>\n",
              "      <th>review_taste</th>\n",
              "      <th>beer_name</th>\n",
              "      <th>beer_abv</th>\n",
              "      <th>beer_beerid</th>\n",
              "    </tr>\n",
              "  </thead>\n",
              "  <tbody>\n",
              "    <tr>\n",
              "      <th>8269</th>\n",
              "      <td>395</td>\n",
              "      <td>Bluegrass Brewing Co. - East St. Matthew's</td>\n",
              "      <td>1210451652</td>\n",
              "      <td>3.0</td>\n",
              "      <td>4.0</td>\n",
              "      <td>4.0</td>\n",
              "      <td>jkrich</td>\n",
              "      <td>American IPA</td>\n",
              "      <td>3.0</td>\n",
              "      <td>3.0</td>\n",
              "      <td>India Pale Ale</td>\n",
              "      <td>NaN</td>\n",
              "      <td>42583</td>\n",
              "    </tr>\n",
              "    <tr>\n",
              "      <th>12569</th>\n",
              "      <td>1289</td>\n",
              "      <td>The Ship Inn</td>\n",
              "      <td>1086927453</td>\n",
              "      <td>4.0</td>\n",
              "      <td>4.0</td>\n",
              "      <td>4.0</td>\n",
              "      <td>Billolick</td>\n",
              "      <td>English India Pale Ale (IPA)</td>\n",
              "      <td>4.5</td>\n",
              "      <td>4.5</td>\n",
              "      <td>India Pale Ale</td>\n",
              "      <td>5.1</td>\n",
              "      <td>17737</td>\n",
              "    </tr>\n",
              "    <tr>\n",
              "      <th>12838</th>\n",
              "      <td>1289</td>\n",
              "      <td>The Ship Inn</td>\n",
              "      <td>1085963165</td>\n",
              "      <td>4.5</td>\n",
              "      <td>4.0</td>\n",
              "      <td>4.5</td>\n",
              "      <td>NeroFiddled</td>\n",
              "      <td>English India Pale Ale (IPA)</td>\n",
              "      <td>4.5</td>\n",
              "      <td>4.5</td>\n",
              "      <td>India Pale Ale</td>\n",
              "      <td>5.1</td>\n",
              "      <td>17737</td>\n",
              "    </tr>\n",
              "    <tr>\n",
              "      <th>13731</th>\n",
              "      <td>5321</td>\n",
              "      <td>McMenamins Queen Anne Hill</td>\n",
              "      <td>1088738915</td>\n",
              "      <td>4.5</td>\n",
              "      <td>4.5</td>\n",
              "      <td>4.0</td>\n",
              "      <td>Globetrotter</td>\n",
              "      <td>American IPA</td>\n",
              "      <td>4.0</td>\n",
              "      <td>4.5</td>\n",
              "      <td>India Pale Ale</td>\n",
              "      <td>NaN</td>\n",
              "      <td>18451</td>\n",
              "    </tr>\n",
              "    <tr>\n",
              "      <th>47616</th>\n",
              "      <td>2810</td>\n",
              "      <td>Streets Of New York / Uptown Brewery</td>\n",
              "      <td>1120963260</td>\n",
              "      <td>3.5</td>\n",
              "      <td>3.5</td>\n",
              "      <td>4.0</td>\n",
              "      <td>Gueuzedude</td>\n",
              "      <td>American IPA</td>\n",
              "      <td>3.5</td>\n",
              "      <td>3.5</td>\n",
              "      <td>India Pale Ale</td>\n",
              "      <td>6.2</td>\n",
              "      <td>11641</td>\n",
              "    </tr>\n",
              "  </tbody>\n",
              "</table>\n",
              "</div>"
            ],
            "text/plain": [
              "       brewery_id  ... beer_beerid\n",
              "8269          395  ...       42583\n",
              "12569        1289  ...       17737\n",
              "12838        1289  ...       17737\n",
              "13731        5321  ...       18451\n",
              "47616        2810  ...       11641\n",
              "\n",
              "[5 rows x 13 columns]"
            ]
          },
          "metadata": {
            "tags": []
          },
          "execution_count": 7
        }
      ]
    },
    {
      "cell_type": "code",
      "metadata": {
        "id": "vn-lzeuDtI9Z",
        "colab_type": "code",
        "colab": {}
      },
      "source": [
        "# filter data to one type of beer\n",
        "india_pale_ale = ['India Pale Ale']\n",
        "condition1 = data_copy['beer_name'].isin(india_pale_ale)\n",
        "india_pale_ale_subset = data_copy[condition1]\n",
        "#india_pale_ale_subset.head(20)"
      ],
      "execution_count": 8,
      "outputs": []
    },
    {
      "cell_type": "code",
      "metadata": {
        "id": "C9rOjKjwEcp4",
        "colab_type": "code",
        "colab": {}
      },
      "source": [
        "# filter all the beer to for mean values\n",
        "nin_min_ipa = ['90 Minute IPA']\n",
        "condition2 = data_copy['beer_name'].isin(nin_min_ipa)\n",
        "ninety_minute_ipa_subset = data_copy[condition2]\n",
        "\n",
        "# Old Rasputin Russian Imperial Stout filter\n",
        "old_rasputin_russian = ['Old Rasputin Russian Imperial Stout']\n",
        "condition3 = data_copy['beer_name'].isin(old_rasputin_russian)\n",
        "old_rasputin_russian_subset = data_copy[condition3]\n",
        "\n",
        "# Sierra Nevada Celebration Ale \n",
        "sierra_nevada_celebration_ale = ['Sierra Nevada Celebration Ale']\n",
        "condition4 = data_copy['beer_name'].isin(sierra_nevada_celebration_ale)\n",
        "sierra_nevada_celebration_ale_subset = data_copy[condition4]\n",
        "\n",
        "# Two Hearted Ale\n",
        "\n",
        "two_hearted_ale = ['Two Hearted Ale']\n",
        "condition5 = data_copy['beer_name'].isin(two_hearted_ale)\n",
        "two_hearted_ale_subset = data_copy[condition5]\n",
        "\n",
        "# Arrogant Bastard Ale\n",
        "\n",
        "arrogant_bastard_ale = ['Arrogant Bastard Ale']\n",
        "condition6 = data_copy['beer_name'].isin(arrogant_bastard_ale)\n",
        "arrogant_bastard_ale_subset = data_copy[condition6]\n",
        "\n",
        "# Stone Ruination IPA\n",
        "\n",
        "stone_ruination_ipa = ['Stone Ruination IPA']\n",
        "condition7 = data_copy['beer_name'].isin(stone_ruination_ipa)\n",
        "stone_ruination_ipa_subset = data_copy[condition7]\n",
        "\n",
        "# Sierra Nevada Pale Ale\n",
        "\n",
        "sierra_nevada_pale_ale = ['Sierra Nevada Pale Ale']\n",
        "condition8 = data_copy['beer_name'].isin(sierra_nevada_pale_ale)\n",
        "sierra_nevada_pale_ale_subset = data_copy[condition8]\n",
        "\n",
        "# Stone IPA (India Pale Ale)\n",
        "\n",
        "stone_ipa = ['Stone IPA (India Pale Ale)']\n",
        "condition9 = data_copy['beer_name'].isin(stone_ipa)\n",
        "stone_ipa_subset = data_copy[condition9]\n",
        "\n",
        "# Pliny The Elder\n",
        "pliny_the_elder = ['Pliny The Elder']\n",
        "condition10 = data_copy['beer_name'].isin(pliny_the_elder)\n",
        "pliny_the_elder_subset = data_copy[condition10]\n"
      ],
      "execution_count": 9,
      "outputs": []
    },
    {
      "cell_type": "code",
      "metadata": {
        "id": "CQeCtNLcHd9f",
        "colab_type": "code",
        "colab": {
          "base_uri": "https://localhost:8080/",
          "height": 187
        },
        "outputId": "441737a5-4229-4934-9fc2-017966a88f5c"
      },
      "source": [
        "# get the mean values of 'review_overall' from filtered varaible\n",
        "from numpy import mean\n",
        "mean1 = mean(ninety_minute_ipa_subset['review_overall'])\n",
        "mean2 = mean(india_pale_ale_subset['review_overall'])\n",
        "mean3 = mean(old_rasputin_russian_subset['review_overall'])\n",
        "mean4 = mean(sierra_nevada_celebration_ale_subset['review_overall']) \n",
        "mean5 = mean(two_hearted_ale_subset['review_overall'])\n",
        "mean6 = mean(arrogant_bastard_ale_subset['review_overall'])\n",
        "mean7 = mean(stone_ruination_ipa_subset['review_overall'])\n",
        "mean8 = mean(sierra_nevada_pale_ale_subset['review_overall'])\n",
        "mean9 = mean(stone_ipa_subset['review_overall'])\n",
        "mean10 = mean(pliny_the_elder_subset['review_overall'])\n",
        "print(mean1)\n",
        "print(mean2)\n",
        "print(mean3)\n",
        "print(mean4)\n",
        "print(mean5)\n",
        "print(mean6)\n",
        "print(mean7)\n",
        "print(mean8)\n",
        "print(mean9)\n",
        "print(mean10)"
      ],
      "execution_count": 10,
      "outputs": [
        {
          "output_type": "stream",
          "text": [
            "4.145744680851064\n",
            "3.8428115015974442\n",
            "4.174220507875281\n",
            "4.168666666666667\n",
            "4.329728739002933\n",
            "4.078402366863905\n",
            "4.161612426035503\n",
            "4.245844607653653\n",
            "4.257669902912621\n",
            "4.590027700831025\n"
          ],
          "name": "stdout"
        }
      ]
    },
    {
      "cell_type": "code",
      "metadata": {
        "id": "yFq6iUk2Tpc9",
        "colab_type": "code",
        "colab": {
          "base_uri": "https://localhost:8080/",
          "height": 187
        },
        "outputId": "27c469c0-5394-4557-83d1-4d21981449da"
      },
      "source": [
        "# gather overall mean values of aroma and taste \n",
        "# aroma mean\n",
        "mean11 = mean(ninety_minute_ipa_subset['review_aroma'])\n",
        "mean22 = mean(india_pale_ale_subset['review_aroma'])\n",
        "mean33 = mean(old_rasputin_russian_subset['review_aroma'])\n",
        "mean44 = mean(sierra_nevada_celebration_ale_subset['review_aroma']) \n",
        "mean55 = mean(two_hearted_ale_subset['review_aroma'])\n",
        "mean66 = mean(arrogant_bastard_ale_subset['review_aroma'])\n",
        "mean77 = mean(stone_ruination_ipa_subset['review_aroma'])\n",
        "mean88 = mean(sierra_nevada_pale_ale_subset['review_aroma'])\n",
        "mean99 = mean(stone_ipa_subset['review_aroma'])\n",
        "mean100 = mean(pliny_the_elder_subset['review_aroma'])\n",
        "print(mean11)\n",
        "print(mean22)\n",
        "print(mean33)\n",
        "print(mean44)\n",
        "print(mean55)\n",
        "print(mean66)\n",
        "print(mean77)\n",
        "print(mean88)\n",
        "print(mean99)\n",
        "print(mean100)"
      ],
      "execution_count": 11,
      "outputs": [
        {
          "output_type": "stream",
          "text": [
            "4.213525835866261\n",
            "3.7583067092651756\n",
            "4.198649951783993\n",
            "4.082333333333334\n",
            "4.266495601173021\n",
            "4.11926775147929\n",
            "4.341531065088757\n",
            "3.915539234634712\n",
            "4.238640776699029\n",
            "4.61218836565097\n"
          ],
          "name": "stdout"
        }
      ]
    },
    {
      "cell_type": "code",
      "metadata": {
        "id": "M6eqrJqAUqZ9",
        "colab_type": "code",
        "colab": {
          "base_uri": "https://localhost:8080/",
          "height": 187
        },
        "outputId": "a01e9e3d-39bc-4f12-c03c-b1be0240eff4"
      },
      "source": [
        "# gather overall mean values of aroma and taste \n",
        "# taste\n",
        "mean12 = mean(ninety_minute_ipa_subset['review_taste'])\n",
        "mean23 = mean(india_pale_ale_subset['review_taste'])\n",
        "mean34 = mean(old_rasputin_russian_subset['review_taste'])\n",
        "mean45 = mean(sierra_nevada_celebration_ale_subset['review_taste']) \n",
        "mean56 = mean(two_hearted_ale_subset['review_taste'])\n",
        "mean67 = mean(arrogant_bastard_ale_subset['review_taste'])\n",
        "mean78 = mean(stone_ruination_ipa_subset['review_taste'])\n",
        "mean89 = mean(sierra_nevada_pale_ale_subset['review_taste'])\n",
        "mean98 = mean(stone_ipa_subset['review_taste'])\n",
        "mean101 = mean(pliny_the_elder_subset['review_taste'])\n",
        "print(mean12)\n",
        "print(mean23)\n",
        "print(mean34)\n",
        "print(mean45)\n",
        "print(mean56)\n",
        "print(mean67)\n",
        "print(mean78)\n",
        "print(mean89)\n",
        "print(mean98)\n",
        "print(mean101)"
      ],
      "execution_count": 12,
      "outputs": [
        {
          "output_type": "stream",
          "text": [
            "4.325987841945289\n",
            "3.798083067092652\n",
            "4.342172934747669\n",
            "4.19\n",
            "4.318914956011731\n",
            "4.278846153846154\n",
            "4.351331360946745\n",
            "4.115384615384615\n",
            "4.297087378640777\n",
            "4.630985358132173\n"
          ],
          "name": "stdout"
        }
      ]
    },
    {
      "cell_type": "code",
      "metadata": {
        "id": "gq9nxm1V3WyO",
        "colab_type": "code",
        "colab": {
          "base_uri": "https://localhost:8080/",
          "height": 187
        },
        "outputId": "adaf61a9-ed48-4862-90df-37605203b6ed"
      },
      "source": [
        "# gather overall mean values of appearance and pallete \n",
        "# appearance\n",
        "mean13 = mean(ninety_minute_ipa_subset['review_appearance'])\n",
        "mean24 = mean(india_pale_ale_subset['review_appearance'])\n",
        "mean35 = mean(old_rasputin_russian_subset['review_appearance'])\n",
        "mean46 = mean(sierra_nevada_celebration_ale_subset['review_appearance']) \n",
        "mean57 = mean(two_hearted_ale_subset['review_appearance'])\n",
        "mean68 = mean(arrogant_bastard_ale_subset['review_appearance'])\n",
        "mean79 = mean(stone_ruination_ipa_subset['review_appearance'])\n",
        "mean87 = mean(sierra_nevada_pale_ale_subset['review_appearance'])\n",
        "mean97 = mean(stone_ipa_subset['review_appearance'])\n",
        "mean102 = mean(pliny_the_elder_subset['review_appearance'])\n",
        "print(mean13)\n",
        "print(mean24)\n",
        "print(mean35)\n",
        "print(mean46)\n",
        "print(mean57)\n",
        "print(mean68)\n",
        "print(mean79)\n",
        "print(mean87)\n",
        "print(mean97)\n",
        "print(mean102)"
      ],
      "execution_count": 13,
      "outputs": [
        {
          "output_type": "stream",
          "text": [
            "4.19209726443769\n",
            "3.856070287539936\n",
            "4.37399549983928\n",
            "4.2251666666666665\n",
            "4.153958944281525\n",
            "4.296412721893491\n",
            "4.17917899408284\n",
            "3.99516814843448\n",
            "4.135728155339806\n",
            "4.388603086664029\n"
          ],
          "name": "stdout"
        }
      ]
    },
    {
      "cell_type": "code",
      "metadata": {
        "id": "LiqhJ9OW4WmU",
        "colab_type": "code",
        "colab": {
          "base_uri": "https://localhost:8080/",
          "height": 187
        },
        "outputId": "f070857b-1d5b-4de5-c48f-0d129e355b4c"
      },
      "source": [
        "# gather overall mean values of appearance and pallete \n",
        "# palate\n",
        "mean131 = mean(ninety_minute_ipa_subset['review_palate'])\n",
        "mean241 = mean(india_pale_ale_subset['review_palate'])\n",
        "mean351 = mean(old_rasputin_russian_subset['review_palate'])\n",
        "mean461 = mean(sierra_nevada_celebration_ale_subset['review_palate']) \n",
        "mean571 = mean(two_hearted_ale_subset['review_palate'])\n",
        "mean681 = mean(arrogant_bastard_ale_subset['review_palate'])\n",
        "mean791 = mean(stone_ruination_ipa_subset['review_palate'])\n",
        "mean871 = mean(sierra_nevada_pale_ale_subset['review_palate'])\n",
        "mean971 = mean(stone_ipa_subset['review_palate'])\n",
        "mean1021 = mean(pliny_the_elder_subset['review_palate'])\n",
        "print(mean131)\n",
        "print(mean241)\n",
        "print(mean351)\n",
        "print(mean461)\n",
        "print(mean571)\n",
        "print(mean681)\n",
        "print(mean791)\n",
        "print(mean871)\n",
        "print(mean971)\n",
        "print(mean1021)"
      ],
      "execution_count": 14,
      "outputs": [
        {
          "output_type": "stream",
          "text": [
            "4.18176291793313\n",
            "3.756070287539936\n",
            "4.231758277081324\n",
            "4.076\n",
            "4.13874633431085\n",
            "4.143121301775148\n",
            "4.183431952662722\n",
            "3.9669501352918437\n",
            "4.138252427184466\n",
            "4.451325682627622\n"
          ],
          "name": "stdout"
        }
      ]
    },
    {
      "cell_type": "code",
      "metadata": {
        "id": "jbrP2NyZI4iq",
        "colab_type": "code",
        "colab": {
          "base_uri": "https://localhost:8080/",
          "height": 410
        },
        "outputId": "1fc3f364-d5ad-4c6f-eafc-dd01f3d8b705"
      },
      "source": [
        "#create new list of overall review means of beers and change into a new dataset\n",
        "# another option (You can concatanate as well to do this)\n",
        "overall_review_mean = {'Beer Name': ['90 Minute IPA', 'India Pale Ale', 'Old Rasputin Russian', 'Sierra Nevada Celebration Ale',\n",
        "                                     'Two Hearted Ale', 'Arrogant Bastard Ale', 'Stone Ruination IPA', 'Sierra Nevada Pale Ale',\n",
        "                                     'Stone IPA', 'Pliney The Elder'],\n",
        "                       'Mean of Overall Review': [4.15, 3.84, 4.17, 4.17, 4.33, 4.07, 4.16, 4.24, 4.26, 4.59],\n",
        "                       'Mean of Overall Aroma Review': [4.21, 3.76, 4.20, 4.08, 4.27, 4.12, 4.34, 3.91, 4.24, 4.61],\n",
        "                       'Mean of Overall Appearance': [4.19, 3.86, 4.37, 4.23, 4.15, 4.20, 4.18, 4.00, 4.14, 4.39],\n",
        "                       'Mean of Overall Palete': [4.18, 3.76, 4.23, 4.08, 4.14, 4.14, 4.18, 3.97, 4.14, 4.45],\n",
        "                       'Mean of Overall Taste Review': [4.33, 3.80, 4.34, 4.19, 4.31, 4.27, 4.35, 4.11, 4.30, 4.63]}\n",
        "overall_review_mean_of_beer = pd.DataFrame(overall_review_mean)\n",
        "overall_review_mean_of_beer"
      ],
      "execution_count": 15,
      "outputs": [
        {
          "output_type": "execute_result",
          "data": {
            "text/html": [
              "<div>\n",
              "<style scoped>\n",
              "    .dataframe tbody tr th:only-of-type {\n",
              "        vertical-align: middle;\n",
              "    }\n",
              "\n",
              "    .dataframe tbody tr th {\n",
              "        vertical-align: top;\n",
              "    }\n",
              "\n",
              "    .dataframe thead th {\n",
              "        text-align: right;\n",
              "    }\n",
              "</style>\n",
              "<table border=\"1\" class=\"dataframe\">\n",
              "  <thead>\n",
              "    <tr style=\"text-align: right;\">\n",
              "      <th></th>\n",
              "      <th>Beer Name</th>\n",
              "      <th>Mean of Overall Review</th>\n",
              "      <th>Mean of Overall Aroma Review</th>\n",
              "      <th>Mean of Overall Appearance</th>\n",
              "      <th>Mean of Overall Palete</th>\n",
              "      <th>Mean of Overall Taste Review</th>\n",
              "    </tr>\n",
              "  </thead>\n",
              "  <tbody>\n",
              "    <tr>\n",
              "      <th>0</th>\n",
              "      <td>90 Minute IPA</td>\n",
              "      <td>4.15</td>\n",
              "      <td>4.21</td>\n",
              "      <td>4.19</td>\n",
              "      <td>4.18</td>\n",
              "      <td>4.33</td>\n",
              "    </tr>\n",
              "    <tr>\n",
              "      <th>1</th>\n",
              "      <td>India Pale Ale</td>\n",
              "      <td>3.84</td>\n",
              "      <td>3.76</td>\n",
              "      <td>3.86</td>\n",
              "      <td>3.76</td>\n",
              "      <td>3.80</td>\n",
              "    </tr>\n",
              "    <tr>\n",
              "      <th>2</th>\n",
              "      <td>Old Rasputin Russian</td>\n",
              "      <td>4.17</td>\n",
              "      <td>4.20</td>\n",
              "      <td>4.37</td>\n",
              "      <td>4.23</td>\n",
              "      <td>4.34</td>\n",
              "    </tr>\n",
              "    <tr>\n",
              "      <th>3</th>\n",
              "      <td>Sierra Nevada Celebration Ale</td>\n",
              "      <td>4.17</td>\n",
              "      <td>4.08</td>\n",
              "      <td>4.23</td>\n",
              "      <td>4.08</td>\n",
              "      <td>4.19</td>\n",
              "    </tr>\n",
              "    <tr>\n",
              "      <th>4</th>\n",
              "      <td>Two Hearted Ale</td>\n",
              "      <td>4.33</td>\n",
              "      <td>4.27</td>\n",
              "      <td>4.15</td>\n",
              "      <td>4.14</td>\n",
              "      <td>4.31</td>\n",
              "    </tr>\n",
              "    <tr>\n",
              "      <th>5</th>\n",
              "      <td>Arrogant Bastard Ale</td>\n",
              "      <td>4.07</td>\n",
              "      <td>4.12</td>\n",
              "      <td>4.20</td>\n",
              "      <td>4.14</td>\n",
              "      <td>4.27</td>\n",
              "    </tr>\n",
              "    <tr>\n",
              "      <th>6</th>\n",
              "      <td>Stone Ruination IPA</td>\n",
              "      <td>4.16</td>\n",
              "      <td>4.34</td>\n",
              "      <td>4.18</td>\n",
              "      <td>4.18</td>\n",
              "      <td>4.35</td>\n",
              "    </tr>\n",
              "    <tr>\n",
              "      <th>7</th>\n",
              "      <td>Sierra Nevada Pale Ale</td>\n",
              "      <td>4.24</td>\n",
              "      <td>3.91</td>\n",
              "      <td>4.00</td>\n",
              "      <td>3.97</td>\n",
              "      <td>4.11</td>\n",
              "    </tr>\n",
              "    <tr>\n",
              "      <th>8</th>\n",
              "      <td>Stone IPA</td>\n",
              "      <td>4.26</td>\n",
              "      <td>4.24</td>\n",
              "      <td>4.14</td>\n",
              "      <td>4.14</td>\n",
              "      <td>4.30</td>\n",
              "    </tr>\n",
              "    <tr>\n",
              "      <th>9</th>\n",
              "      <td>Pliney The Elder</td>\n",
              "      <td>4.59</td>\n",
              "      <td>4.61</td>\n",
              "      <td>4.39</td>\n",
              "      <td>4.45</td>\n",
              "      <td>4.63</td>\n",
              "    </tr>\n",
              "  </tbody>\n",
              "</table>\n",
              "</div>"
            ],
            "text/plain": [
              "                       Beer Name  ...  Mean of Overall Taste Review\n",
              "0                  90 Minute IPA  ...                          4.33\n",
              "1                 India Pale Ale  ...                          3.80\n",
              "2           Old Rasputin Russian  ...                          4.34\n",
              "3  Sierra Nevada Celebration Ale  ...                          4.19\n",
              "4                Two Hearted Ale  ...                          4.31\n",
              "5           Arrogant Bastard Ale  ...                          4.27\n",
              "6            Stone Ruination IPA  ...                          4.35\n",
              "7         Sierra Nevada Pale Ale  ...                          4.11\n",
              "8                      Stone IPA  ...                          4.30\n",
              "9               Pliney The Elder  ...                          4.63\n",
              "\n",
              "[10 rows x 6 columns]"
            ]
          },
          "metadata": {
            "tags": []
          },
          "execution_count": 15
        }
      ]
    },
    {
      "cell_type": "markdown",
      "metadata": {
        "id": "IducdThhVZML",
        "colab_type": "text"
      },
      "source": [
        "### With new dataset:\n",
        "\n",
        "\n"
      ]
    },
    {
      "cell_type": "code",
      "metadata": {
        "id": "NTiDOoENrKiR",
        "colab_type": "code",
        "colab": {
          "base_uri": "https://localhost:8080/",
          "height": 1000
        },
        "outputId": "a40f5fd7-71ca-4632-8e07-ce2d3eb7b9c2"
      },
      "source": [
        "# graph a direct comparison of the top 10\n",
        "\n",
        "# number of beers being graph\n",
        "N = 10\n",
        "\n",
        "# number of columns \n",
        "review = (4.15,3.84,4.17,4.17,4.33,4.07,4.16,4.24,4.26,4.59)\n",
        "\n",
        "ind = np.arange(N)\n",
        "width = .95\n",
        "\n",
        "# create plot \n",
        "fig, ax = plt.subplots()\n",
        "\n",
        "rects1 = ax.bar(ind, review, width, color='brown')\n",
        "\n",
        "#label\n",
        "ax.set_ylabel('Final Rating Out of Five')\n",
        "ax.set_title('Mean of Overall Review')\n",
        "ax.set_xticks(ind + width / 2)\n",
        "ax.set_xticklabels(('90 Minute IPA', 'India Pale Ale', 'Old Rasputin Russian', 'Sierra Nevada Celebration Ale', 'Two Hearted Ale', 'Arrogant Bastard Ale', 'Stone Ruination IPA', 'Sierra Nevada Pale Ale', 'Stone IPA', 'Pliney The Elder'))\n",
        "plt.xticks(rotation=30, ha='right')\n",
        "plt.plot()\n",
        "\n",
        "# graph aroma\n",
        "\n",
        "# number of beers being graph\n",
        "N = 10\n",
        "\n",
        "# number of columns \n",
        "aroma = (4.21,3.76,4.20,4.08,4.27,4.12,4.34,3.91,4.24,4.61)\n",
        "\n",
        "ind = np.arange(N)\n",
        "width = .95\n",
        "\n",
        "# create plot \n",
        "fig, ax = plt.subplots()\n",
        "\n",
        "rects1 = ax.bar(ind, review, width, color='yellow')\n",
        "\n",
        "#label\n",
        "ax.set_ylabel('Final Rating Out of Five')\n",
        "ax.set_title('Mean of Overall Aroma')\n",
        "ax.set_xticks(ind + width / 2)\n",
        "ax.set_xticklabels(('90 Minute IPA', 'India Pale Ale', 'Old Rasputin Russian', 'Sierra Nevada Celebration Ale', 'Two Hearted Ale', 'Arrogant Bastard Ale', 'Stone Ruination IPA', 'Sierra Nevada Pale Ale', 'Stone IPA', 'Pliney The Elder'))\n",
        "plt.xticks(rotation=30, ha='right')\n",
        "plt.plot()\n",
        "\n",
        "# graph appearance\n",
        "\n",
        "# number of beers being graph\n",
        "N = 10\n",
        "\n",
        "# number of columns \n",
        "appearance = (4.19,3.86,4.37,4.23,4.15,4.20,4.18,4.00,4.14,4.39)\n",
        "\n",
        "ind = np.arange(N)\n",
        "width = .95\n",
        "\n",
        "# create plot \n",
        "fig, ax = plt.subplots()\n",
        "\n",
        "rects1 = ax.bar(ind, review, width, color='blue')\n",
        "\n",
        "#label\n",
        "ax.set_ylabel('Final Rating Out of Five')\n",
        "ax.set_title('Mean of Overall Appearance')\n",
        "ax.set_xticks(ind + width / 2)\n",
        "ax.set_xticklabels(('90 Minute IPA', 'India Pale Ale', 'Old Rasputin Russian', 'Sierra Nevada Celebration Ale', 'Two Hearted Ale', 'Arrogant Bastard Ale', 'Stone Ruination IPA', 'Sierra Nevada Pale Ale', 'Stone IPA', 'Pliney The Elder'))\n",
        "plt.xticks(rotation=30, ha='right')\n",
        "plt.plot()\n",
        "\n",
        "# graph palete\n",
        "\n",
        "# number of beers being graph\n",
        "N = 10\n",
        "\n",
        "# number of columns \n",
        "palete = (4.18,3.76,4.23,4.08,4.14,4.14,4.18,3.97,4.14,4.45)\n",
        "\n",
        "ind = np.arange(N)\n",
        "width = .95\n",
        "\n",
        "# create plot \n",
        "fig, ax = plt.subplots()\n",
        "\n",
        "rects1 = ax.bar(ind, review, width, color='pink')\n",
        "\n",
        "#label\n",
        "ax.set_ylabel('Final Rating Out of Five')\n",
        "ax.set_title('Mean of Overall Palete')\n",
        "ax.set_xticks(ind + width / 2)\n",
        "ax.set_xticklabels(('90 Minute IPA', 'India Pale Ale', 'Old Rasputin Russian', 'Sierra Nevada Celebration Ale', 'Two Hearted Ale', 'Arrogant Bastard Ale', 'Stone Ruination IPA', 'Sierra Nevada Pale Ale', 'Stone IPA', 'Pliney The Elder'))\n",
        "plt.xticks(rotation=30, ha='right')\n",
        "plt.plot()\n",
        "\n",
        "# graph taste\n",
        "\n",
        "# number of beers being graph\n",
        "N = 10\n",
        "\n",
        "# number of columns \n",
        "taste = (4.33,3.80,4.34,4.19,4.31,4.27,4.35,4.11,4.30,4.63)\n",
        "\n",
        "ind = np.arange(N)\n",
        "width = .95\n",
        "\n",
        "# create plot \n",
        "fig, ax = plt.subplots()\n",
        "\n",
        "rects1 = ax.bar(ind, review, width, color='orange')\n",
        "\n",
        "#label\n",
        "ax.set_ylabel('Final Rating Out of Five')\n",
        "ax.set_title('Mean of Overall Taste')\n",
        "ax.set_xticks(ind + width / 2)\n",
        "ax.set_xticklabels(('90 Minute IPA', 'India Pale Ale', 'Old Rasputin Russian', 'Sierra Nevada Celebration Ale', 'Two Hearted Ale', 'Arrogant Bastard Ale', 'Stone Ruination IPA', 'Sierra Nevada Pale Ale', 'Stone IPA', 'Pliney The Elder'))\n",
        "plt.xticks(rotation=30, ha='right')\n",
        "plt.plot()\n",
        "\n",
        "\n",
        "\n"
      ],
      "execution_count": 16,
      "outputs": [
        {
          "output_type": "execute_result",
          "data": {
            "text/plain": [
              "[]"
            ]
          },
          "metadata": {
            "tags": []
          },
          "execution_count": 16
        },
        {
          "output_type": "display_data",
          "data": {
            "image/png": "[encoded data removed]",
            "text/plain": [
              "<Figure size 432x288 with 1 Axes>"
            ]
          },
          "metadata": {
            "tags": [],
            "needs_background": "light"
          }
        },
        {
          "output_type": "display_data",
          "data": {
            "image/png": "[encoded data removed]",
            "text/plain": [
              "<Figure size 432x288 with 1 Axes>"
            ]
          },
          "metadata": {
            "tags": [],
            "needs_background": "light"
          }
        },
        {
          "output_type": "display_data",
          "data": {
            "image/png": "[encoded data removed]",
            "text/plain": [
              "<Figure size 432x288 with 1 Axes>"
            ]
          },
          "metadata": {
            "tags": [],
            "needs_background": "light"
          }
        },
        {
          "output_type": "display_data",
          "data": {
            "image/png": "[encoded data removed]",
            "text/plain": [
              "<Figure size 432x288 with 1 Axes>"
            ]
          },
          "metadata": {
            "tags": [],
            "needs_background": "light"
          }
        },
        {
          "output_type": "display_data",
          "data": {
            "image/png": "[encoded data removed]",
            "text/plain": [
              "<Figure size 432x288 with 1 Axes>"
            ]
          },
          "metadata": {
            "tags": [],
            "needs_background": "light"
          }
        }
      ]
    },
    {
      "cell_type": "code",
      "metadata": {
        "id": "mOLyEdN5xFoI",
        "colab_type": "code",
        "colab": {
          "base_uri": "https://localhost:8080/",
          "height": 1000
        },
        "outputId": "31ce36ea-0d3e-4e6b-d57c-96145c722b98"
      },
      "source": [
        "sns.pairplot(overall_review_mean_of_beer, hue=\"Beer Name\")"
      ],
      "execution_count": 17,
      "outputs": [
        {
          "output_type": "stream",
          "text": [
            "/usr/local/lib/python3.6/dist-packages/seaborn/distributions.py:283: UserWarning: Data must have variance to compute a kernel density estimate.\n",
            "  warnings.warn(msg, UserWarning)\n",
            "/usr/local/lib/python3.6/dist-packages/seaborn/distributions.py:283: UserWarning: Data must have variance to compute a kernel density estimate.\n",
            "  warnings.warn(msg, UserWarning)\n",
            "/usr/local/lib/python3.6/dist-packages/seaborn/distributions.py:283: UserWarning: Data must have variance to compute a kernel density estimate.\n",
            "  warnings.warn(msg, UserWarning)\n",
            "/usr/local/lib/python3.6/dist-packages/seaborn/distributions.py:283: UserWarning: Data must have variance to compute a kernel density estimate.\n",
            "  warnings.warn(msg, UserWarning)\n",
            "/usr/local/lib/python3.6/dist-packages/seaborn/distributions.py:283: UserWarning: Data must have variance to compute a kernel density estimate.\n",
            "  warnings.warn(msg, UserWarning)\n",
            "/usr/local/lib/python3.6/dist-packages/seaborn/distributions.py:283: UserWarning: Data must have variance to compute a kernel density estimate.\n",
            "  warnings.warn(msg, UserWarning)\n",
            "/usr/local/lib/python3.6/dist-packages/seaborn/distributions.py:283: UserWarning: Data must have variance to compute a kernel density estimate.\n",
            "  warnings.warn(msg, UserWarning)\n",
            "/usr/local/lib/python3.6/dist-packages/seaborn/distributions.py:283: UserWarning: Data must have variance to compute a kernel density estimate.\n",
            "  warnings.warn(msg, UserWarning)\n",
            "/usr/local/lib/python3.6/dist-packages/seaborn/distributions.py:283: UserWarning: Data must have variance to compute a kernel density estimate.\n",
            "  warnings.warn(msg, UserWarning)\n",
            "/usr/local/lib/python3.6/dist-packages/seaborn/distributions.py:283: UserWarning: Data must have variance to compute a kernel density estimate.\n",
            "  warnings.warn(msg, UserWarning)\n",
            "/usr/local/lib/python3.6/dist-packages/seaborn/distributions.py:283: UserWarning: Data must have variance to compute a kernel density estimate.\n",
            "  warnings.warn(msg, UserWarning)\n",
            "/usr/local/lib/python3.6/dist-packages/seaborn/distributions.py:283: UserWarning: Data must have variance to compute a kernel density estimate.\n",
            "  warnings.warn(msg, UserWarning)\n",
            "/usr/local/lib/python3.6/dist-packages/seaborn/distributions.py:283: UserWarning: Data must have variance to compute a kernel density estimate.\n",
            "  warnings.warn(msg, UserWarning)\n",
            "/usr/local/lib/python3.6/dist-packages/seaborn/distributions.py:283: UserWarning: Data must have variance to compute a kernel density estimate.\n",
            "  warnings.warn(msg, UserWarning)\n",
            "/usr/local/lib/python3.6/dist-packages/seaborn/distributions.py:283: UserWarning: Data must have variance to compute a kernel density estimate.\n",
            "  warnings.warn(msg, UserWarning)\n",
            "/usr/local/lib/python3.6/dist-packages/seaborn/distributions.py:283: UserWarning: Data must have variance to compute a kernel density estimate.\n",
            "  warnings.warn(msg, UserWarning)\n",
            "/usr/local/lib/python3.6/dist-packages/seaborn/distributions.py:283: UserWarning: Data must have variance to compute a kernel density estimate.\n",
            "  warnings.warn(msg, UserWarning)\n",
            "/usr/local/lib/python3.6/dist-packages/seaborn/distributions.py:283: UserWarning: Data must have variance to compute a kernel density estimate.\n",
            "  warnings.warn(msg, UserWarning)\n",
            "/usr/local/lib/python3.6/dist-packages/seaborn/distributions.py:283: UserWarning: Data must have variance to compute a kernel density estimate.\n",
            "  warnings.warn(msg, UserWarning)\n",
            "/usr/local/lib/python3.6/dist-packages/seaborn/distributions.py:283: UserWarning: Data must have variance to compute a kernel density estimate.\n",
            "  warnings.warn(msg, UserWarning)\n",
            "/usr/local/lib/python3.6/dist-packages/seaborn/distributions.py:283: UserWarning: Data must have variance to compute a kernel density estimate.\n",
            "  warnings.warn(msg, UserWarning)\n",
            "/usr/local/lib/python3.6/dist-packages/seaborn/distributions.py:283: UserWarning: Data must have variance to compute a kernel density estimate.\n",
            "  warnings.warn(msg, UserWarning)\n",
            "/usr/local/lib/python3.6/dist-packages/seaborn/distributions.py:283: UserWarning: Data must have variance to compute a kernel density estimate.\n",
            "  warnings.warn(msg, UserWarning)\n",
            "/usr/local/lib/python3.6/dist-packages/seaborn/distributions.py:283: UserWarning: Data must have variance to compute a kernel density estimate.\n",
            "  warnings.warn(msg, UserWarning)\n",
            "/usr/local/lib/python3.6/dist-packages/seaborn/distributions.py:283: UserWarning: Data must have variance to compute a kernel density estimate.\n",
            "  warnings.warn(msg, UserWarning)\n",
            "/usr/local/lib/python3.6/dist-packages/seaborn/distributions.py:283: UserWarning: Data must have variance to compute a kernel density estimate.\n",
            "  warnings.warn(msg, UserWarning)\n",
            "/usr/local/lib/python3.6/dist-packages/seaborn/distributions.py:283: UserWarning: Data must have variance to compute a kernel density estimate.\n",
            "  warnings.warn(msg, UserWarning)\n",
            "/usr/local/lib/python3.6/dist-packages/seaborn/distributions.py:283: UserWarning: Data must have variance to compute a kernel density estimate.\n",
            "  warnings.warn(msg, UserWarning)\n",
            "/usr/local/lib/python3.6/dist-packages/seaborn/distributions.py:283: UserWarning: Data must have variance to compute a kernel density estimate.\n",
            "  warnings.warn(msg, UserWarning)\n",
            "/usr/local/lib/python3.6/dist-packages/seaborn/distributions.py:283: UserWarning: Data must have variance to compute a kernel density estimate.\n",
            "  warnings.warn(msg, UserWarning)\n",
            "/usr/local/lib/python3.6/dist-packages/seaborn/distributions.py:283: UserWarning: Data must have variance to compute a kernel density estimate.\n",
            "  warnings.warn(msg, UserWarning)\n",
            "/usr/local/lib/python3.6/dist-packages/seaborn/distributions.py:283: UserWarning: Data must have variance to compute a kernel density estimate.\n",
            "  warnings.warn(msg, UserWarning)\n",
            "/usr/local/lib/python3.6/dist-packages/seaborn/distributions.py:283: UserWarning: Data must have variance to compute a kernel density estimate.\n",
            "  warnings.warn(msg, UserWarning)\n",
            "/usr/local/lib/python3.6/dist-packages/seaborn/distributions.py:283: UserWarning: Data must have variance to compute a kernel density estimate.\n",
            "  warnings.warn(msg, UserWarning)\n",
            "/usr/local/lib/python3.6/dist-packages/seaborn/distributions.py:283: UserWarning: Data must have variance to compute a kernel density estimate.\n",
            "  warnings.warn(msg, UserWarning)\n",
            "/usr/local/lib/python3.6/dist-packages/seaborn/distributions.py:283: UserWarning: Data must have variance to compute a kernel density estimate.\n",
            "  warnings.warn(msg, UserWarning)\n",
            "/usr/local/lib/python3.6/dist-packages/seaborn/distributions.py:283: UserWarning: Data must have variance to compute a kernel density estimate.\n",
            "  warnings.warn(msg, UserWarning)\n",
            "/usr/local/lib/python3.6/dist-packages/seaborn/distributions.py:283: UserWarning: Data must have variance to compute a kernel density estimate.\n",
            "  warnings.warn(msg, UserWarning)\n",
            "/usr/local/lib/python3.6/dist-packages/seaborn/distributions.py:283: UserWarning: Data must have variance to compute a kernel density estimate.\n",
            "  warnings.warn(msg, UserWarning)\n",
            "/usr/local/lib/python3.6/dist-packages/seaborn/distributions.py:283: UserWarning: Data must have variance to compute a kernel density estimate.\n",
            "  warnings.warn(msg, UserWarning)\n",
            "/usr/local/lib/python3.6/dist-packages/seaborn/distributions.py:283: UserWarning: Data must have variance to compute a kernel density estimate.\n",
            "  warnings.warn(msg, UserWarning)\n",
            "/usr/local/lib/python3.6/dist-packages/seaborn/distributions.py:283: UserWarning: Data must have variance to compute a kernel density estimate.\n",
            "  warnings.warn(msg, UserWarning)\n",
            "/usr/local/lib/python3.6/dist-packages/seaborn/distributions.py:283: UserWarning: Data must have variance to compute a kernel density estimate.\n",
            "  warnings.warn(msg, UserWarning)\n",
            "/usr/local/lib/python3.6/dist-packages/seaborn/distributions.py:283: UserWarning: Data must have variance to compute a kernel density estimate.\n",
            "  warnings.warn(msg, UserWarning)\n",
            "/usr/local/lib/python3.6/dist-packages/seaborn/distributions.py:283: UserWarning: Data must have variance to compute a kernel density estimate.\n",
            "  warnings.warn(msg, UserWarning)\n",
            "/usr/local/lib/python3.6/dist-packages/seaborn/distributions.py:283: UserWarning: Data must have variance to compute a kernel density estimate.\n",
            "  warnings.warn(msg, UserWarning)\n",
            "/usr/local/lib/python3.6/dist-packages/seaborn/distributions.py:283: UserWarning: Data must have variance to compute a kernel density estimate.\n",
            "  warnings.warn(msg, UserWarning)\n",
            "/usr/local/lib/python3.6/dist-packages/seaborn/distributions.py:283: UserWarning: Data must have variance to compute a kernel density estimate.\n",
            "  warnings.warn(msg, UserWarning)\n",
            "/usr/local/lib/python3.6/dist-packages/seaborn/distributions.py:283: UserWarning: Data must have variance to compute a kernel density estimate.\n",
            "  warnings.warn(msg, UserWarning)\n",
            "/usr/local/lib/python3.6/dist-packages/seaborn/distributions.py:283: UserWarning: Data must have variance to compute a kernel density estimate.\n",
            "  warnings.warn(msg, UserWarning)\n"
          ],
          "name": "stderr"
        },
        {
          "output_type": "execute_result",
          "data": {
            "text/plain": [
              "<seaborn.axisgrid.PairGrid at 0x7fc2b4af4940>"
            ]
          },
          "metadata": {
            "tags": []
          },
          "execution_count": 17
        },
        {
          "output_type": "display_data",
          "data": {
            "image/png": "[encoded data removed]",
            "text/plain": [
              "<Figure size 1086.5x900 with 30 Axes>"
            ]
          },
          "metadata": {
            "tags": [],
            "needs_background": "light"
          }
        }
      ]
    },
    {
      "cell_type": "markdown",
      "metadata": {
        "id": "LwjavwZKqrqk",
        "colab_type": "text"
      },
      "source": [
        "# Results \n",
        "\n",
        "## The overall winner is Piney the Elder\n",
        "\n",
        "Each graph closely resembled each other and it could of made the beer with the best review pretty obvious"
      ]
    },
    {
      "cell_type": "markdown",
      "metadata": {
        "id": "Jc_IikS6rtSy",
        "colab_type": "text"
      },
      "source": [
        "## Lets take a closer look at the top reviewed winner\n",
        "\n",
        "Someone gave a 5 overall review when the other columns were given 3s and 4s.\n"
      ]
    },
    {
      "cell_type": "code",
      "metadata": {
        "id": "us4E_p3opmAe",
        "colab_type": "code",
        "colab": {
          "base_uri": "https://localhost:8080/",
          "height": 514
        },
        "outputId": "9f1a4ce8-f94f-4af1-8346-590805d944c5"
      },
      "source": [
        "# drop irrelevant columns\n",
        "pliny = pliny_the_elder_subset.drop(['brewery_id', 'brewery_name', 'review_time', 'review_profilename',\n",
        "                                     'beer_style', 'beer_abv', 'beer_beerid',], axis=1)\n",
        "pliny.head(15)\n",
        "# review overall doesn't reflect the actually rating givin the other numbers on some of the rows\n"
      ],
      "execution_count": 18,
      "outputs": [
        {
          "output_type": "execute_result",
          "data": {
            "text/html": [
              "<div>\n",
              "<style scoped>\n",
              "    .dataframe tbody tr th:only-of-type {\n",
              "        vertical-align: middle;\n",
              "    }\n",
              "\n",
              "    .dataframe tbody tr th {\n",
              "        vertical-align: top;\n",
              "    }\n",
              "\n",
              "    .dataframe thead th {\n",
              "        text-align: right;\n",
              "    }\n",
              "</style>\n",
              "<table border=\"1\" class=\"dataframe\">\n",
              "  <thead>\n",
              "    <tr style=\"text-align: right;\">\n",
              "      <th></th>\n",
              "      <th>review_overall</th>\n",
              "      <th>review_aroma</th>\n",
              "      <th>review_appearance</th>\n",
              "      <th>review_palate</th>\n",
              "      <th>review_taste</th>\n",
              "      <th>beer_name</th>\n",
              "    </tr>\n",
              "  </thead>\n",
              "  <tbody>\n",
              "    <tr>\n",
              "      <th>1127975</th>\n",
              "      <td>5.0</td>\n",
              "      <td>5.0</td>\n",
              "      <td>5.0</td>\n",
              "      <td>4.5</td>\n",
              "      <td>5.0</td>\n",
              "      <td>Pliny The Elder</td>\n",
              "    </tr>\n",
              "    <tr>\n",
              "      <th>1129745</th>\n",
              "      <td>5.0</td>\n",
              "      <td>5.0</td>\n",
              "      <td>4.5</td>\n",
              "      <td>5.0</td>\n",
              "      <td>5.0</td>\n",
              "      <td>Pliny The Elder</td>\n",
              "    </tr>\n",
              "    <tr>\n",
              "      <th>1130354</th>\n",
              "      <td>5.0</td>\n",
              "      <td>5.0</td>\n",
              "      <td>4.5</td>\n",
              "      <td>4.5</td>\n",
              "      <td>5.0</td>\n",
              "      <td>Pliny The Elder</td>\n",
              "    </tr>\n",
              "    <tr>\n",
              "      <th>1130929</th>\n",
              "      <td>5.0</td>\n",
              "      <td>5.0</td>\n",
              "      <td>5.0</td>\n",
              "      <td>5.0</td>\n",
              "      <td>5.0</td>\n",
              "      <td>Pliny The Elder</td>\n",
              "    </tr>\n",
              "    <tr>\n",
              "      <th>1130940</th>\n",
              "      <td>4.5</td>\n",
              "      <td>4.5</td>\n",
              "      <td>4.0</td>\n",
              "      <td>4.5</td>\n",
              "      <td>4.5</td>\n",
              "      <td>Pliny The Elder</td>\n",
              "    </tr>\n",
              "    <tr>\n",
              "      <th>1131034</th>\n",
              "      <td>5.0</td>\n",
              "      <td>4.0</td>\n",
              "      <td>4.0</td>\n",
              "      <td>5.0</td>\n",
              "      <td>5.0</td>\n",
              "      <td>Pliny The Elder</td>\n",
              "    </tr>\n",
              "    <tr>\n",
              "      <th>1131043</th>\n",
              "      <td>4.0</td>\n",
              "      <td>5.0</td>\n",
              "      <td>3.5</td>\n",
              "      <td>5.0</td>\n",
              "      <td>4.5</td>\n",
              "      <td>Pliny The Elder</td>\n",
              "    </tr>\n",
              "    <tr>\n",
              "      <th>1132408</th>\n",
              "      <td>4.5</td>\n",
              "      <td>4.5</td>\n",
              "      <td>4.0</td>\n",
              "      <td>5.0</td>\n",
              "      <td>4.5</td>\n",
              "      <td>Pliny The Elder</td>\n",
              "    </tr>\n",
              "    <tr>\n",
              "      <th>1132859</th>\n",
              "      <td>3.5</td>\n",
              "      <td>4.0</td>\n",
              "      <td>4.0</td>\n",
              "      <td>3.5</td>\n",
              "      <td>3.5</td>\n",
              "      <td>Pliny The Elder</td>\n",
              "    </tr>\n",
              "    <tr>\n",
              "      <th>1132871</th>\n",
              "      <td>5.0</td>\n",
              "      <td>4.5</td>\n",
              "      <td>4.0</td>\n",
              "      <td>3.0</td>\n",
              "      <td>3.5</td>\n",
              "      <td>Pliny The Elder</td>\n",
              "    </tr>\n",
              "    <tr>\n",
              "      <th>1132909</th>\n",
              "      <td>4.5</td>\n",
              "      <td>4.5</td>\n",
              "      <td>4.5</td>\n",
              "      <td>4.5</td>\n",
              "      <td>4.5</td>\n",
              "      <td>Pliny The Elder</td>\n",
              "    </tr>\n",
              "    <tr>\n",
              "      <th>1132955</th>\n",
              "      <td>5.0</td>\n",
              "      <td>5.0</td>\n",
              "      <td>4.0</td>\n",
              "      <td>4.5</td>\n",
              "      <td>5.0</td>\n",
              "      <td>Pliny The Elder</td>\n",
              "    </tr>\n",
              "    <tr>\n",
              "      <th>1133031</th>\n",
              "      <td>4.0</td>\n",
              "      <td>5.0</td>\n",
              "      <td>4.0</td>\n",
              "      <td>4.0</td>\n",
              "      <td>5.0</td>\n",
              "      <td>Pliny The Elder</td>\n",
              "    </tr>\n",
              "    <tr>\n",
              "      <th>1133149</th>\n",
              "      <td>5.0</td>\n",
              "      <td>4.5</td>\n",
              "      <td>4.0</td>\n",
              "      <td>4.0</td>\n",
              "      <td>4.5</td>\n",
              "      <td>Pliny The Elder</td>\n",
              "    </tr>\n",
              "    <tr>\n",
              "      <th>1133184</th>\n",
              "      <td>5.0</td>\n",
              "      <td>5.0</td>\n",
              "      <td>4.0</td>\n",
              "      <td>4.0</td>\n",
              "      <td>5.0</td>\n",
              "      <td>Pliny The Elder</td>\n",
              "    </tr>\n",
              "  </tbody>\n",
              "</table>\n",
              "</div>"
            ],
            "text/plain": [
              "         review_overall  review_aroma  ...  review_taste        beer_name\n",
              "1127975             5.0           5.0  ...           5.0  Pliny The Elder\n",
              "1129745             5.0           5.0  ...           5.0  Pliny The Elder\n",
              "1130354             5.0           5.0  ...           5.0  Pliny The Elder\n",
              "1130929             5.0           5.0  ...           5.0  Pliny The Elder\n",
              "1130940             4.5           4.5  ...           4.5  Pliny The Elder\n",
              "1131034             5.0           4.0  ...           5.0  Pliny The Elder\n",
              "1131043             4.0           5.0  ...           4.5  Pliny The Elder\n",
              "1132408             4.5           4.5  ...           4.5  Pliny The Elder\n",
              "1132859             3.5           4.0  ...           3.5  Pliny The Elder\n",
              "1132871             5.0           4.5  ...           3.5  Pliny The Elder\n",
              "1132909             4.5           4.5  ...           4.5  Pliny The Elder\n",
              "1132955             5.0           5.0  ...           5.0  Pliny The Elder\n",
              "1133031             4.0           5.0  ...           5.0  Pliny The Elder\n",
              "1133149             5.0           4.5  ...           4.5  Pliny The Elder\n",
              "1133184             5.0           5.0  ...           5.0  Pliny The Elder\n",
              "\n",
              "[15 rows x 6 columns]"
            ]
          },
          "metadata": {
            "tags": []
          },
          "execution_count": 18
        }
      ]
    },
    {
      "cell_type": "code",
      "metadata": {
        "id": "ByTUBgkn2qbG",
        "colab_type": "code",
        "colab": {
          "base_uri": "https://localhost:8080/",
          "height": 514
        },
        "outputId": "9f7f3434-8d21-4315-ad10-1305355af5c9"
      },
      "source": [
        "#create a column for the average of the other columns\n",
        "# new column \n",
        "pliny['Overall'] = ((pliny['review_aroma'] + pliny['review_appearance'] + pliny['review_palate'] + pliny['review_taste']) / 4)\n",
        "pliny.head(15)\n",
        "# drop column made by accident\n",
        "#pliny = pliny.drop(['Overall_True'], axis=1)\n",
        "\n"
      ],
      "execution_count": 19,
      "outputs": [
        {
          "output_type": "execute_result",
          "data": {
            "text/html": [
              "<div>\n",
              "<style scoped>\n",
              "    .dataframe tbody tr th:only-of-type {\n",
              "        vertical-align: middle;\n",
              "    }\n",
              "\n",
              "    .dataframe tbody tr th {\n",
              "        vertical-align: top;\n",
              "    }\n",
              "\n",
              "    .dataframe thead th {\n",
              "        text-align: right;\n",
              "    }\n",
              "</style>\n",
              "<table border=\"1\" class=\"dataframe\">\n",
              "  <thead>\n",
              "    <tr style=\"text-align: right;\">\n",
              "      <th></th>\n",
              "      <th>review_overall</th>\n",
              "      <th>review_aroma</th>\n",
              "      <th>review_appearance</th>\n",
              "      <th>review_palate</th>\n",
              "      <th>review_taste</th>\n",
              "      <th>beer_name</th>\n",
              "      <th>Overall</th>\n",
              "    </tr>\n",
              "  </thead>\n",
              "  <tbody>\n",
              "    <tr>\n",
              "      <th>1127975</th>\n",
              "      <td>5.0</td>\n",
              "      <td>5.0</td>\n",
              "      <td>5.0</td>\n",
              "      <td>4.5</td>\n",
              "      <td>5.0</td>\n",
              "      <td>Pliny The Elder</td>\n",
              "      <td>4.875</td>\n",
              "    </tr>\n",
              "    <tr>\n",
              "      <th>1129745</th>\n",
              "      <td>5.0</td>\n",
              "      <td>5.0</td>\n",
              "      <td>4.5</td>\n",
              "      <td>5.0</td>\n",
              "      <td>5.0</td>\n",
              "      <td>Pliny The Elder</td>\n",
              "      <td>4.875</td>\n",
              "    </tr>\n",
              "    <tr>\n",
              "      <th>1130354</th>\n",
              "      <td>5.0</td>\n",
              "      <td>5.0</td>\n",
              "      <td>4.5</td>\n",
              "      <td>4.5</td>\n",
              "      <td>5.0</td>\n",
              "      <td>Pliny The Elder</td>\n",
              "      <td>4.750</td>\n",
              "    </tr>\n",
              "    <tr>\n",
              "      <th>1130929</th>\n",
              "      <td>5.0</td>\n",
              "      <td>5.0</td>\n",
              "      <td>5.0</td>\n",
              "      <td>5.0</td>\n",
              "      <td>5.0</td>\n",
              "      <td>Pliny The Elder</td>\n",
              "      <td>5.000</td>\n",
              "    </tr>\n",
              "    <tr>\n",
              "      <th>1130940</th>\n",
              "      <td>4.5</td>\n",
              "      <td>4.5</td>\n",
              "      <td>4.0</td>\n",
              "      <td>4.5</td>\n",
              "      <td>4.5</td>\n",
              "      <td>Pliny The Elder</td>\n",
              "      <td>4.375</td>\n",
              "    </tr>\n",
              "    <tr>\n",
              "      <th>1131034</th>\n",
              "      <td>5.0</td>\n",
              "      <td>4.0</td>\n",
              "      <td>4.0</td>\n",
              "      <td>5.0</td>\n",
              "      <td>5.0</td>\n",
              "      <td>Pliny The Elder</td>\n",
              "      <td>4.500</td>\n",
              "    </tr>\n",
              "    <tr>\n",
              "      <th>1131043</th>\n",
              "      <td>4.0</td>\n",
              "      <td>5.0</td>\n",
              "      <td>3.5</td>\n",
              "      <td>5.0</td>\n",
              "      <td>4.5</td>\n",
              "      <td>Pliny The Elder</td>\n",
              "      <td>4.500</td>\n",
              "    </tr>\n",
              "    <tr>\n",
              "      <th>1132408</th>\n",
              "      <td>4.5</td>\n",
              "      <td>4.5</td>\n",
              "      <td>4.0</td>\n",
              "      <td>5.0</td>\n",
              "      <td>4.5</td>\n",
              "      <td>Pliny The Elder</td>\n",
              "      <td>4.500</td>\n",
              "    </tr>\n",
              "    <tr>\n",
              "      <th>1132859</th>\n",
              "      <td>3.5</td>\n",
              "      <td>4.0</td>\n",
              "      <td>4.0</td>\n",
              "      <td>3.5</td>\n",
              "      <td>3.5</td>\n",
              "      <td>Pliny The Elder</td>\n",
              "      <td>3.750</td>\n",
              "    </tr>\n",
              "    <tr>\n",
              "      <th>1132871</th>\n",
              "      <td>5.0</td>\n",
              "      <td>4.5</td>\n",
              "      <td>4.0</td>\n",
              "      <td>3.0</td>\n",
              "      <td>3.5</td>\n",
              "      <td>Pliny The Elder</td>\n",
              "      <td>3.750</td>\n",
              "    </tr>\n",
              "    <tr>\n",
              "      <th>1132909</th>\n",
              "      <td>4.5</td>\n",
              "      <td>4.5</td>\n",
              "      <td>4.5</td>\n",
              "      <td>4.5</td>\n",
              "      <td>4.5</td>\n",
              "      <td>Pliny The Elder</td>\n",
              "      <td>4.500</td>\n",
              "    </tr>\n",
              "    <tr>\n",
              "      <th>1132955</th>\n",
              "      <td>5.0</td>\n",
              "      <td>5.0</td>\n",
              "      <td>4.0</td>\n",
              "      <td>4.5</td>\n",
              "      <td>5.0</td>\n",
              "      <td>Pliny The Elder</td>\n",
              "      <td>4.625</td>\n",
              "    </tr>\n",
              "    <tr>\n",
              "      <th>1133031</th>\n",
              "      <td>4.0</td>\n",
              "      <td>5.0</td>\n",
              "      <td>4.0</td>\n",
              "      <td>4.0</td>\n",
              "      <td>5.0</td>\n",
              "      <td>Pliny The Elder</td>\n",
              "      <td>4.500</td>\n",
              "    </tr>\n",
              "    <tr>\n",
              "      <th>1133149</th>\n",
              "      <td>5.0</td>\n",
              "      <td>4.5</td>\n",
              "      <td>4.0</td>\n",
              "      <td>4.0</td>\n",
              "      <td>4.5</td>\n",
              "      <td>Pliny The Elder</td>\n",
              "      <td>4.250</td>\n",
              "    </tr>\n",
              "    <tr>\n",
              "      <th>1133184</th>\n",
              "      <td>5.0</td>\n",
              "      <td>5.0</td>\n",
              "      <td>4.0</td>\n",
              "      <td>4.0</td>\n",
              "      <td>5.0</td>\n",
              "      <td>Pliny The Elder</td>\n",
              "      <td>4.500</td>\n",
              "    </tr>\n",
              "  </tbody>\n",
              "</table>\n",
              "</div>"
            ],
            "text/plain": [
              "         review_overall  review_aroma  ...        beer_name  Overall\n",
              "1127975             5.0           5.0  ...  Pliny The Elder    4.875\n",
              "1129745             5.0           5.0  ...  Pliny The Elder    4.875\n",
              "1130354             5.0           5.0  ...  Pliny The Elder    4.750\n",
              "1130929             5.0           5.0  ...  Pliny The Elder    5.000\n",
              "1130940             4.5           4.5  ...  Pliny The Elder    4.375\n",
              "1131034             5.0           4.0  ...  Pliny The Elder    4.500\n",
              "1131043             4.0           5.0  ...  Pliny The Elder    4.500\n",
              "1132408             4.5           4.5  ...  Pliny The Elder    4.500\n",
              "1132859             3.5           4.0  ...  Pliny The Elder    3.750\n",
              "1132871             5.0           4.5  ...  Pliny The Elder    3.750\n",
              "1132909             4.5           4.5  ...  Pliny The Elder    4.500\n",
              "1132955             5.0           5.0  ...  Pliny The Elder    4.625\n",
              "1133031             4.0           5.0  ...  Pliny The Elder    4.500\n",
              "1133149             5.0           4.5  ...  Pliny The Elder    4.250\n",
              "1133184             5.0           5.0  ...  Pliny The Elder    4.500\n",
              "\n",
              "[15 rows x 7 columns]"
            ]
          },
          "metadata": {
            "tags": []
          },
          "execution_count": 19
        }
      ]
    },
    {
      "cell_type": "code",
      "metadata": {
        "id": "VloYi1tkrkB_",
        "colab_type": "code",
        "colab": {
          "base_uri": "https://localhost:8080/",
          "height": 280
        },
        "outputId": "70f0fbfe-d8cd-4021-901f-cd12eecb284b"
      },
      "source": [
        "# compare the new overall review against the old one\n",
        "\n",
        "sns.lineplot(x='review_overall', y='Overall',\n",
        "            data=pliny);\n",
        "sns.scatterplot(x='review_overall', y='Overall',\n",
        "            data=pliny);\n"
      ],
      "execution_count": 20,
      "outputs": [
        {
          "output_type": "display_data",
          "data": {
            "image/png": "[encoded data removed]",
            "text/plain": [
              "<Figure size 432x288 with 1 Axes>"
            ]
          },
          "metadata": {
            "tags": [],
            "needs_background": "light"
          }
        }
      ]
    },
    {
      "cell_type": "code",
      "metadata": {
        "id": "ihhhpdJnrwhP",
        "colab_type": "code",
        "colab": {
          "base_uri": "https://localhost:8080/",
          "height": 278
        },
        "outputId": "fc220cef-0374-44d0-8e6e-2c35782362c0"
      },
      "source": [
        "compare = {'Mean Rating' : pliny['Overall'],\n",
        "           'Reviewer Rating' : pliny['review_overall']}\n",
        "\n",
        "\n",
        "compare = pd.DataFrame(compare)\n",
        "\n",
        "compare.plot(style=['o','rx']);"
      ],
      "execution_count": 21,
      "outputs": [
        {
          "output_type": "display_data",
          "data": {
            "image/png": "[encoded data removed]",
            "text/plain": [
              "<Figure size 432x288 with 1 Axes>"
            ]
          },
          "metadata": {
            "tags": [],
            "needs_background": "light"
          }
        }
      ]
    },
    {
      "cell_type": "code",
      "metadata": {
        "id": "H9zdiPcEGvqq",
        "colab_type": "code",
        "colab": {
          "base_uri": "https://localhost:8080/",
          "height": 444
        },
        "outputId": "b99f10e9-ba86-41cc-88e4-558d2956c82b"
      },
      "source": [
        "# get true review number for other beers\n",
        "\n",
        "overall_review_mean_of_beer['Overall'] = ((overall_review_mean_of_beer['Mean of Overall Aroma Review'] + overall_review_mean_of_beer['Mean of Overall Palete'] + overall_review_mean_of_beer['Mean of Overall Appearance'] + overall_review_mean_of_beer['Mean of Overall Taste Review']) / 4)\n",
        "overall_review_mean_of_beer"
      ],
      "execution_count": 22,
      "outputs": [
        {
          "output_type": "execute_result",
          "data": {
            "text/html": [
              "<div>\n",
              "<style scoped>\n",
              "    .dataframe tbody tr th:only-of-type {\n",
              "        vertical-align: middle;\n",
              "    }\n",
              "\n",
              "    .dataframe tbody tr th {\n",
              "        vertical-align: top;\n",
              "    }\n",
              "\n",
              "    .dataframe thead th {\n",
              "        text-align: right;\n",
              "    }\n",
              "</style>\n",
              "<table border=\"1\" class=\"dataframe\">\n",
              "  <thead>\n",
              "    <tr style=\"text-align: right;\">\n",
              "      <th></th>\n",
              "      <th>Beer Name</th>\n",
              "      <th>Mean of Overall Review</th>\n",
              "      <th>Mean of Overall Aroma Review</th>\n",
              "      <th>Mean of Overall Appearance</th>\n",
              "      <th>Mean of Overall Palete</th>\n",
              "      <th>Mean of Overall Taste Review</th>\n",
              "      <th>Overall</th>\n",
              "    </tr>\n",
              "  </thead>\n",
              "  <tbody>\n",
              "    <tr>\n",
              "      <th>0</th>\n",
              "      <td>90 Minute IPA</td>\n",
              "      <td>4.15</td>\n",
              "      <td>4.21</td>\n",
              "      <td>4.19</td>\n",
              "      <td>4.18</td>\n",
              "      <td>4.33</td>\n",
              "      <td>4.2275</td>\n",
              "    </tr>\n",
              "    <tr>\n",
              "      <th>1</th>\n",
              "      <td>India Pale Ale</td>\n",
              "      <td>3.84</td>\n",
              "      <td>3.76</td>\n",
              "      <td>3.86</td>\n",
              "      <td>3.76</td>\n",
              "      <td>3.80</td>\n",
              "      <td>3.7950</td>\n",
              "    </tr>\n",
              "    <tr>\n",
              "      <th>2</th>\n",
              "      <td>Old Rasputin Russian</td>\n",
              "      <td>4.17</td>\n",
              "      <td>4.20</td>\n",
              "      <td>4.37</td>\n",
              "      <td>4.23</td>\n",
              "      <td>4.34</td>\n",
              "      <td>4.2850</td>\n",
              "    </tr>\n",
              "    <tr>\n",
              "      <th>3</th>\n",
              "      <td>Sierra Nevada Celebration Ale</td>\n",
              "      <td>4.17</td>\n",
              "      <td>4.08</td>\n",
              "      <td>4.23</td>\n",
              "      <td>4.08</td>\n",
              "      <td>4.19</td>\n",
              "      <td>4.1450</td>\n",
              "    </tr>\n",
              "    <tr>\n",
              "      <th>4</th>\n",
              "      <td>Two Hearted Ale</td>\n",
              "      <td>4.33</td>\n",
              "      <td>4.27</td>\n",
              "      <td>4.15</td>\n",
              "      <td>4.14</td>\n",
              "      <td>4.31</td>\n",
              "      <td>4.2175</td>\n",
              "    </tr>\n",
              "    <tr>\n",
              "      <th>5</th>\n",
              "      <td>Arrogant Bastard Ale</td>\n",
              "      <td>4.07</td>\n",
              "      <td>4.12</td>\n",
              "      <td>4.20</td>\n",
              "      <td>4.14</td>\n",
              "      <td>4.27</td>\n",
              "      <td>4.1825</td>\n",
              "    </tr>\n",
              "    <tr>\n",
              "      <th>6</th>\n",
              "      <td>Stone Ruination IPA</td>\n",
              "      <td>4.16</td>\n",
              "      <td>4.34</td>\n",
              "      <td>4.18</td>\n",
              "      <td>4.18</td>\n",
              "      <td>4.35</td>\n",
              "      <td>4.2625</td>\n",
              "    </tr>\n",
              "    <tr>\n",
              "      <th>7</th>\n",
              "      <td>Sierra Nevada Pale Ale</td>\n",
              "      <td>4.24</td>\n",
              "      <td>3.91</td>\n",
              "      <td>4.00</td>\n",
              "      <td>3.97</td>\n",
              "      <td>4.11</td>\n",
              "      <td>3.9975</td>\n",
              "    </tr>\n",
              "    <tr>\n",
              "      <th>8</th>\n",
              "      <td>Stone IPA</td>\n",
              "      <td>4.26</td>\n",
              "      <td>4.24</td>\n",
              "      <td>4.14</td>\n",
              "      <td>4.14</td>\n",
              "      <td>4.30</td>\n",
              "      <td>4.2050</td>\n",
              "    </tr>\n",
              "    <tr>\n",
              "      <th>9</th>\n",
              "      <td>Pliney The Elder</td>\n",
              "      <td>4.59</td>\n",
              "      <td>4.61</td>\n",
              "      <td>4.39</td>\n",
              "      <td>4.45</td>\n",
              "      <td>4.63</td>\n",
              "      <td>4.5200</td>\n",
              "    </tr>\n",
              "  </tbody>\n",
              "</table>\n",
              "</div>"
            ],
            "text/plain": [
              "                       Beer Name  ...  Overall\n",
              "0                  90 Minute IPA  ...   4.2275\n",
              "1                 India Pale Ale  ...   3.7950\n",
              "2           Old Rasputin Russian  ...   4.2850\n",
              "3  Sierra Nevada Celebration Ale  ...   4.1450\n",
              "4                Two Hearted Ale  ...   4.2175\n",
              "5           Arrogant Bastard Ale  ...   4.1825\n",
              "6            Stone Ruination IPA  ...   4.2625\n",
              "7         Sierra Nevada Pale Ale  ...   3.9975\n",
              "8                      Stone IPA  ...   4.2050\n",
              "9               Pliney The Elder  ...   4.5200\n",
              "\n",
              "[10 rows x 7 columns]"
            ]
          },
          "metadata": {
            "tags": []
          },
          "execution_count": 22
        }
      ]
    },
    {
      "cell_type": "code",
      "metadata": {
        "id": "mdJ7xg9vXktR",
        "colab_type": "code",
        "colab": {
          "base_uri": "https://localhost:8080/",
          "height": 710
        },
        "outputId": "8c1b1ab1-001d-473d-be70-ead21c9689f4"
      },
      "source": [
        "# new graph for overall review\n",
        "# number of beers being graph\n",
        "N = 10\n",
        "\n",
        "# number of columns \n",
        "truereview = (4.23,3.80,4.29,4.15,4.22,4.18,4.26,4.00,4.21,4.52)\n",
        "\n",
        "ind = np.arange(N)\n",
        "width = .95\n",
        "\n",
        "# create plot \n",
        "fig, ax = plt.subplots()\n",
        "\n",
        "rects1 = ax.bar(ind, review, width, color='brown')\n",
        "\n",
        "#label\n",
        "ax.set_ylabel('Final Rating Out of Five')\n",
        "ax.set_title('Mean of Overall Base off Other Reviews')\n",
        "ax.set_xticks(ind + width / 2)\n",
        "ax.set_xticklabels(('90 Minute IPA', 'India Pale Ale', 'Old Rasputin Russian', 'Sierra Nevada Celebration Ale', 'Two Hearted Ale', 'Arrogant Bastard Ale', 'Stone Ruination IPA', 'Sierra Nevada Pale Ale', 'Stone IPA', 'Pliney The Elder'))\n",
        "plt.xticks(rotation=30, ha='right')\n",
        "plt.plot()\n",
        "\n",
        "\n",
        "# compare to original graph\n",
        "N = 10\n",
        "\n",
        "# number of columns \n",
        "review = (4.15,3.84,4.17,4.17,4.33,4.07,4.16,4.24,4.26,4.59)\n",
        "\n",
        "ind = np.arange(N)\n",
        "width = .95\n",
        "\n",
        "# create plot \n",
        "fig, ax = plt.subplots()\n",
        "\n",
        "rects1 = ax.bar(ind, review, width, color='brown')\n",
        "\n",
        "#label\n",
        "ax.set_ylabel('Final Rating Out of Five')\n",
        "ax.set_title('Mean of Overall Review')\n",
        "ax.set_xticks(ind + width / 2)\n",
        "ax.set_xticklabels(('90 Minute IPA', 'India Pale Ale', 'Old Rasputin Russian', 'Sierra Nevada Celebration Ale', 'Two Hearted Ale', 'Arrogant Bastard Ale', 'Stone Ruination IPA', 'Sierra Nevada Pale Ale', 'Stone IPA', 'Pliney The Elder'))\n",
        "plt.xticks(rotation=30, ha='right')\n",
        "plt.plot()"
      ],
      "execution_count": 23,
      "outputs": [
        {
          "output_type": "execute_result",
          "data": {
            "text/plain": [
              "[]"
            ]
          },
          "metadata": {
            "tags": []
          },
          "execution_count": 23
        },
        {
          "output_type": "display_data",
          "data": {
            "image/png": "[encoded data removed]",
            "text/plain": [
              "<Figure size 432x288 with 1 Axes>"
            ]
          },
          "metadata": {
            "tags": [],
            "needs_background": "light"
          }
        },
        {
          "output_type": "display_data",
          "data": {
            "image/png": "[encoded data removed]",
            "text/plain": [
              "<Figure size 432x288 with 1 Axes>"
            ]
          },
          "metadata": {
            "tags": [],
            "needs_background": "light"
          }
        }
      ]
    }
  ]
}